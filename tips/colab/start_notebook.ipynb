{
  "nbformat": 4,
  "nbformat_minor": 0,
  "metadata": {
    "colab": {
      "name": "start-notebook.ipynb",
      "provenance": [],
      "collapsed_sections": [],
      "authorship_tag": "ABX9TyMddtkGr6Cf6mQP/CJmpBko",
      "include_colab_link": true
    },
    "kernelspec": {
      "name": "python3",
      "display_name": "Python 3"
    },
    "accelerator": "GPU"
  },
  "cells": [
    {
      "cell_type": "markdown",
      "metadata": {
        "id": "view-in-github",
        "colab_type": "text"
      },
      "source": [
        "<a href=\"https://colab.research.google.com/github/KeisukeShimokawa/papers-challenge/blob/master/tips/colab/start_notebook.ipynb\" target=\"_parent\"><img src=\"https://colab.research.google.com/assets/colab-badge.svg\" alt=\"Open In Colab\"/></a>"
      ]
    },
    {
      "cell_type": "code",
      "metadata": {
        "id": "KTi2NXMY_zBO",
        "colab_type": "code",
        "colab": {
          "base_uri": "https://localhost:8080/",
          "height": 1000
        },
        "outputId": "51a2bfa3-8a1f-4124-9bdd-3007b19c7ed3"
      },
      "source": [
        "!pip install colabcode\n",
        "!git clone https://github.com/KeisukeShimokawa/papers-challenge.git\n",
        "!colabcode --port 10000 --password start"
      ],
      "execution_count": null,
      "outputs": [
        {
          "output_type": "stream",
          "text": [
            "Collecting colabcode\n",
            "  Downloading https://files.pythonhosted.org/packages/26/ef/3d612c8c4a189be1fde7e0a54c7b3043025f6100e0500b0b416d82d2095a/colabcode-0.0.8-py3-none-any.whl\n",
            "Collecting pyngrok>=4.1.11\n",
            "  Downloading https://files.pythonhosted.org/packages/d1/4e/c050f5ed75f60cca4e9cc0a7056a9b424707a09f6293756e7dd19beb10db/pyngrok-4.1.12.tar.gz\n",
            "Requirement already satisfied: future in /usr/local/lib/python3.6/dist-packages (from pyngrok>=4.1.11->colabcode) (0.16.0)\n",
            "Requirement already satisfied: PyYAML in /usr/local/lib/python3.6/dist-packages (from pyngrok>=4.1.11->colabcode) (3.13)\n",
            "Building wheels for collected packages: pyngrok\n",
            "  Building wheel for pyngrok (setup.py) ... \u001b[?25l\u001b[?25hdone\n",
            "  Created wheel for pyngrok: filename=pyngrok-4.1.12-cp36-none-any.whl size=16810 sha256=c6cf9ae64fe9c2a783dea74f69158913465ae059bd6cfd6470701581f8ace00f\n",
            "  Stored in directory: /root/.cache/pip/wheels/69/c3/d6/6968dd4d831794d41c311be1d7af6f4ac151c5d3bd0e6efab8\n",
            "Successfully built pyngrok\n",
            "Installing collected packages: pyngrok, colabcode\n",
            "Successfully installed colabcode-0.0.8 pyngrok-4.1.12\n",
            "/bin/bash: line 0: cd: root: No such file or directory\n",
            "Cloning into 'papers-challenge'...\n",
            "remote: Enumerating objects: 437, done.\u001b[K\n",
            "remote: Counting objects: 100% (437/437), done.\u001b[K\n",
            "remote: Compressing objects: 100% (360/360), done.\u001b[K\n",
            "remote: Total 2409 (delta 146), reused 143 (delta 35), pack-reused 1972\u001b[K\n",
            "Receiving objects: 100% (2409/2409), 43.07 MiB | 11.49 MiB/s, done.\n",
            "Resolving deltas: 100% (1037/1037), done.\n",
            "--2020-09-13 04:58:04--  https://code-server.dev/install.sh\n",
            "Resolving code-server.dev (code-server.dev)... 104.31.76.39, 104.31.77.39, 172.67.214.225, ...\n",
            "Connecting to code-server.dev (code-server.dev)|104.31.76.39|:443... connected.\n",
            "HTTP request sent, awaiting response... 302 Found\n",
            "Location: https://raw.githubusercontent.com/cdr/code-server/master/install.sh [following]\n",
            "--2020-09-13 04:58:05--  https://raw.githubusercontent.com/cdr/code-server/master/install.sh\n",
            "Resolving raw.githubusercontent.com (raw.githubusercontent.com)... 151.101.0.133, 151.101.64.133, 151.101.128.133, ...\n",
            "Connecting to raw.githubusercontent.com (raw.githubusercontent.com)|151.101.0.133|:443... connected.\n",
            "HTTP request sent, awaiting response... 200 OK\n",
            "Length: 11805 (12K) [text/plain]\n",
            "Saving to: ‘install.sh’\n",
            "\n",
            "install.sh          100%[===================>]  11.53K  --.-KB/s    in 0s      \n",
            "\n",
            "2020-09-13 04:58:05 (98.5 MB/s) - ‘install.sh’ saved [11805/11805]\n",
            "\n",
            "######################################################################## 100.0%\n",
            "[2020-09-13T04:58:17.621Z] \u001b[38;2;0;143;191minfo  \u001b[0mWrote default config file to ~/.config/code-server/config.yaml\u001b[0m\n",
            "[2020-09-13T04:58:17.623Z] \u001b[38;2;0;143;191minfo  \u001b[0mUsing config file ~/.config/code-server/config.yaml\u001b[0m\n",
            "Installing extensions...\n",
            "Installing extension 'ms-python.python' v2020.5.86806...\n",
            "Extension 'ms-python.python' v2020.5.86806 was successfully installed.\n",
            "[2020-09-13T04:58:23.526Z] \u001b[38;2;0;143;191minfo  \u001b[0mUsing config file ~/.config/code-server/config.yaml\u001b[0m\n",
            "Installing extensions...\n",
            "Installing extension 'jithurjacob.nbpreviewer' v1.2.2...\n",
            "Extension 'jithurjacob.nbpreviewer' v1.2.2 was successfully installed.\n",
            "Code Server can be accessed on: https://251947f073e0.ngrok.io\n",
            "[2020-09-13T04:58:32.084Z] info  Using config file ~/.config/code-server/config.yaml\n",
            "[2020-09-13T04:58:32.317Z] info  Using user-data-dir ~/.local/share/code-server\n",
            "[2020-09-13T04:58:32.323Z] info  code-server 3.5.0 de41646fc402b968ca6d555fdf2da7de9554d28a\n",
            "[2020-09-13T04:58:32.328Z] info  HTTP server listening on http://127.0.0.1:10000\n",
            "[2020-09-13T04:58:32.328Z] info      - Using password from $PASSWORD\n",
            "[2020-09-13T04:58:32.328Z] info      - To disable use `--auth none`\n",
            "[2020-09-13T04:58:32.328Z] info    - Not serving HTTPS\n"
          ],
          "name": "stdout"
        }
      ]
    },
    {
      "cell_type": "code",
      "metadata": {
        "id": "ZKmDSIQmAimi",
        "colab_type": "code",
        "colab": {}
      },
      "source": [
        ""
      ],
      "execution_count": null,
      "outputs": []
    }
  ]
}