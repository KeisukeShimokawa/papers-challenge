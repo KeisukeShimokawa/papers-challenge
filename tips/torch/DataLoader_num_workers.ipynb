{
  "nbformat": 4,
  "nbformat_minor": 0,
  "metadata": {
    "colab": {
      "name": "DataLoader num_workers.ipynb",
      "provenance": [],
      "collapsed_sections": [],
      "machine_shape": "hm",
      "authorship_tag": "ABX9TyNixfiHD0f2tgfPDr2Xoj3F",
      "include_colab_link": true
    },
    "kernelspec": {
      "name": "python3",
      "display_name": "Python 3"
    },
    "accelerator": "GPU"
  },
  "cells": [
    {
      "cell_type": "markdown",
      "metadata": {
        "id": "view-in-github",
        "colab_type": "text"
      },
      "source": [
        "<a href=\"https://colab.research.google.com/github/KeisukeShimokawa/papers-challenge/blob/master/tips/torch/DataLoader_num_workers.ipynb\" target=\"_parent\"><img src=\"https://colab.research.google.com/assets/colab-badge.svg\" alt=\"Open In Colab\"/></a>"
      ]
    },
    {
      "cell_type": "code",
      "metadata": {
        "id": "L-YqK_JinYD9",
        "colab_type": "code",
        "colab": {
          "base_uri": "https://localhost:8080/",
          "height": 69
        },
        "outputId": "7e07bfab-d60b-4ad3-f5bd-f4655283fe81"
      },
      "source": [
        "!grep physical.id /proc/cpuinfo | sort -u | wc -l\n",
        "!grep cpu.cores /proc/cpuinfo | sort -u\n",
        "!grep processor /proc/cpuinfo | wc -l"
      ],
      "execution_count": 1,
      "outputs": [
        {
          "output_type": "stream",
          "text": [
            "1\n",
            "cpu cores\t: 2\n",
            "4\n"
          ],
          "name": "stdout"
        }
      ]
    },
    {
      "cell_type": "code",
      "metadata": {
        "id": "itCsBgjwirI2",
        "colab_type": "code",
        "colab": {
          "base_uri": "https://localhost:8080/",
          "height": 192
        },
        "outputId": "5f648a2a-8c99-4eba-d9d7-3a22e6381a85"
      },
      "source": [
        "!nvidia-smi | head -n 10"
      ],
      "execution_count": 2,
      "outputs": [
        {
          "output_type": "stream",
          "text": [
            "Sun Jun 21 00:58:10 2020       \n",
            "+-----------------------------------------------------------------------------+\n",
            "| NVIDIA-SMI 450.36.06    Driver Version: 418.67       CUDA Version: 10.1     |\n",
            "|-------------------------------+----------------------+----------------------+\n",
            "| GPU  Name        Persistence-M| Bus-Id        Disp.A | Volatile Uncorr. ECC |\n",
            "| Fan  Temp  Perf  Pwr:Usage/Cap|         Memory-Usage | GPU-Util  Compute M. |\n",
            "|                               |                      |               MIG M. |\n",
            "|===============================+======================+======================|\n",
            "|   0  Tesla P100-PCIE...  Off  | 00000000:00:04.0 Off |                    0 |\n",
            "| N/A   47C    P0    28W / 250W |      0MiB / 16280MiB |      0%      Default |\n"
          ],
          "name": "stdout"
        }
      ]
    },
    {
      "cell_type": "code",
      "metadata": {
        "id": "5HNYySrFdYD1",
        "colab_type": "code",
        "colab": {}
      },
      "source": [
        "import torch\n",
        "from torch.utils.data import TensorDataset, DataLoader"
      ],
      "execution_count": 3,
      "outputs": []
    },
    {
      "cell_type": "code",
      "metadata": {
        "id": "UKCXXkMlddvk",
        "colab_type": "code",
        "colab": {
          "base_uri": "https://localhost:8080/",
          "height": 34
        },
        "outputId": "f84542f3-1049-46ff-9490-99fef1d30e4b"
      },
      "source": [
        "inputs = torch.randn(1000000, 10)\n",
        "labels = torch.randn(1000000, 10)\n",
        "batch_size = 10000\n",
        "\n",
        "print(inputs.shape, labels.shape)"
      ],
      "execution_count": 4,
      "outputs": [
        {
          "output_type": "stream",
          "text": [
            "torch.Size([1000000, 10]) torch.Size([1000000, 10])\n"
          ],
          "name": "stdout"
        }
      ]
    },
    {
      "cell_type": "code",
      "metadata": {
        "id": "9N7YYlXjdqaU",
        "colab_type": "code",
        "colab": {}
      },
      "source": [
        "def run_loader(loader):\n",
        "    for label,target in loader:\n",
        "        pass\n",
        "\n",
        "    print(label.shape)\n",
        "    print(target.shape)"
      ],
      "execution_count": 5,
      "outputs": []
    },
    {
      "cell_type": "code",
      "metadata": {
        "id": "JqeuiuDveFVV",
        "colab_type": "code",
        "colab": {
          "base_uri": "https://localhost:8080/",
          "height": 69
        },
        "outputId": "558c3861-cfd4-426a-eee7-16c7f9fc680a"
      },
      "source": [
        "dataset = torch.utils.data.TensorDataset(inputs, labels)\n",
        "loader2 = torch.utils.data.DataLoader(dataset,\n",
        "                                      batch_size=batch_size,\n",
        "                                      shuffle=True)\n",
        "\n",
        "%timeit -n1 -r1 run_loader(loader2)"
      ],
      "execution_count": 10,
      "outputs": [
        {
          "output_type": "stream",
          "text": [
            "torch.Size([10000, 10])\n",
            "torch.Size([10000, 10])\n",
            "1 loop, best of 1: 6.71 s per loop\n"
          ],
          "name": "stdout"
        }
      ]
    },
    {
      "cell_type": "code",
      "metadata": {
        "id": "6GIsxwo3XNou",
        "colab_type": "code",
        "colab": {
          "base_uri": "https://localhost:8080/",
          "height": 69
        },
        "outputId": "182c3749-0754-4de3-cd4e-dab95c4f9ade"
      },
      "source": [
        "num_workers = 2\n",
        "\n",
        "dataset = torch.utils.data.TensorDataset(inputs, labels)\n",
        "loader2 = torch.utils.data.DataLoader(dataset,\n",
        "                                      batch_size=batch_size,\n",
        "                                      shuffle=True,\n",
        "                                      num_workers=num_workers,\n",
        "                                      pin_memory=True)\n",
        "\n",
        "%timeit -n1 -r1 run_loader(loader2)"
      ],
      "execution_count": 9,
      "outputs": [
        {
          "output_type": "stream",
          "text": [
            "torch.Size([10000, 10])\n",
            "torch.Size([10000, 10])\n",
            "1 loop, best of 1: 3.87 s per loop\n"
          ],
          "name": "stdout"
        }
      ]
    },
    {
      "cell_type": "code",
      "metadata": {
        "id": "pK-eCyTsXabS",
        "colab_type": "code",
        "colab": {
          "base_uri": "https://localhost:8080/",
          "height": 69
        },
        "outputId": "1b57e732-9e01-45c3-ccac-64389da620f7"
      },
      "source": [
        "num_workers = 4\n",
        "\n",
        "dataset = torch.utils.data.TensorDataset(inputs, labels)\n",
        "loader2 = torch.utils.data.DataLoader(dataset,\n",
        "                                      batch_size=batch_size,\n",
        "                                      shuffle=True,\n",
        "                                      num_workers=num_workers,\n",
        "                                      pin_memory=True)\n",
        "\n",
        "%timeit -n1 -r1 run_loader(loader2)"
      ],
      "execution_count": 8,
      "outputs": [
        {
          "output_type": "stream",
          "text": [
            "torch.Size([10000, 10])\n",
            "torch.Size([10000, 10])\n",
            "1 loop, best of 1: 3.44 s per loop\n"
          ],
          "name": "stdout"
        }
      ]
    },
    {
      "cell_type": "code",
      "metadata": {
        "id": "AuUhDGbxeaR1",
        "colab_type": "code",
        "colab": {}
      },
      "source": [
        "def collate_fn(batch):\n",
        "\n",
        "    inputs, labels = list(zip(*batch))\n",
        "    inputs = torch.stack(inputs)\n",
        "    labels = torch.stack(labels)\n",
        "    \n",
        "    return inputs, labels"
      ],
      "execution_count": 11,
      "outputs": []
    },
    {
      "cell_type": "code",
      "metadata": {
        "id": "sYqgLqwzex3L",
        "colab_type": "code",
        "colab": {
          "base_uri": "https://localhost:8080/",
          "height": 69
        },
        "outputId": "3580ee37-11fc-4445-823f-1021a8e939d3"
      },
      "source": [
        "dataset = torch.utils.data.TensorDataset(inputs, labels)\n",
        "loader2 = torch.utils.data.DataLoader(dataset,\n",
        "                                      batch_size=batch_size,\n",
        "                                      shuffle=True,\n",
        "                                      collate_fn=collate_fn,\n",
        "                                      drop_last=True)\n",
        "\n",
        "%timeit -n1 -r1 run_loader(loader2)"
      ],
      "execution_count": 12,
      "outputs": [
        {
          "output_type": "stream",
          "text": [
            "torch.Size([10000, 10])\n",
            "torch.Size([10000, 10])\n",
            "1 loop, best of 1: 6.53 s per loop\n"
          ],
          "name": "stdout"
        }
      ]
    },
    {
      "cell_type": "code",
      "metadata": {
        "id": "eeaINQaKi8oJ",
        "colab_type": "code",
        "colab": {
          "base_uri": "https://localhost:8080/",
          "height": 69
        },
        "outputId": "84c444f2-9e00-4550-9cc2-a6419783e20b"
      },
      "source": [
        "num_workers = 2\n",
        "\n",
        "dataset = torch.utils.data.TensorDataset(inputs, labels)\n",
        "loader2 = torch.utils.data.DataLoader(dataset,\n",
        "                                      batch_size=batch_size,\n",
        "                                      shuffle=True,\n",
        "                                      collate_fn=collate_fn,\n",
        "                                      drop_last=True,\n",
        "                                      num_workers=num_workers,\n",
        "                                      pin_memory=True)\n",
        "\n",
        "%timeit -n1 -r1 run_loader(loader2)"
      ],
      "execution_count": 13,
      "outputs": [
        {
          "output_type": "stream",
          "text": [
            "torch.Size([10000, 10])\n",
            "torch.Size([10000, 10])\n",
            "1 loop, best of 1: 3.66 s per loop\n"
          ],
          "name": "stdout"
        }
      ]
    },
    {
      "cell_type": "code",
      "metadata": {
        "id": "cG6-2woJYKEa",
        "colab_type": "code",
        "colab": {
          "base_uri": "https://localhost:8080/",
          "height": 69
        },
        "outputId": "4a0473d0-8246-4670-a874-86b99053cdbb"
      },
      "source": [
        "num_workers = 4\n",
        "\n",
        "dataset = torch.utils.data.TensorDataset(inputs, labels)\n",
        "loader2 = torch.utils.data.DataLoader(dataset,\n",
        "                                      batch_size=batch_size,\n",
        "                                      shuffle=True,\n",
        "                                      collate_fn=collate_fn,\n",
        "                                      drop_last=True,\n",
        "                                      num_workers=num_workers,\n",
        "                                      pin_memory=True)\n",
        "\n",
        "%timeit -n1 -r1 run_loader(loader2)"
      ],
      "execution_count": 14,
      "outputs": [
        {
          "output_type": "stream",
          "text": [
            "torch.Size([10000, 10])\n",
            "torch.Size([10000, 10])\n",
            "1 loop, best of 1: 3.36 s per loop\n"
          ],
          "name": "stdout"
        }
      ]
    },
    {
      "cell_type": "code",
      "metadata": {
        "id": "HzWNzdwChDIG",
        "colab_type": "code",
        "colab": {}
      },
      "source": [
        "def run_loader_cuda(loader):\n",
        "    for label,target in loader:\n",
        "        label = label.to('cuda:0')\n",
        "        target = target.to('cuda:0')\n",
        "        pass"
      ],
      "execution_count": 15,
      "outputs": []
    },
    {
      "cell_type": "code",
      "metadata": {
        "id": "a35XXf9Ze1k-",
        "colab_type": "code",
        "colab": {
          "base_uri": "https://localhost:8080/",
          "height": 34
        },
        "outputId": "b663c4b9-b3d5-4bd6-ca57-dc917ad05bcc"
      },
      "source": [
        "num_workers = 4\n",
        "\n",
        "dataset = torch.utils.data.TensorDataset(inputs, labels)\n",
        "loader2 = torch.utils.data.DataLoader(dataset,\n",
        "                                      batch_size=batch_size,\n",
        "                                      shuffle=True,\n",
        "                                      collate_fn=collate_fn,\n",
        "                                      drop_last=True,\n",
        "                                      num_workers=num_workers,\n",
        "                                      pin_memory=True)\n",
        "\n",
        "%timeit -n1 -r1 run_loader_cuda(loader2)"
      ],
      "execution_count": 16,
      "outputs": [
        {
          "output_type": "stream",
          "text": [
            "1 loop, best of 1: 3.36 s per loop\n"
          ],
          "name": "stdout"
        }
      ]
    },
    {
      "cell_type": "code",
      "metadata": {
        "id": "ekmGVnqShQmY",
        "colab_type": "code",
        "colab": {}
      },
      "source": [
        "def run_loader_cuda_non_blocking(loader):\n",
        "    for label,target in loader:\n",
        "        label = label.to('cuda:0', non_blocking=True)\n",
        "        target = target.to('cuda:0', non_blocking=True)\n",
        "        pass"
      ],
      "execution_count": 17,
      "outputs": []
    },
    {
      "cell_type": "code",
      "metadata": {
        "id": "cHm66yYijIbA",
        "colab_type": "code",
        "colab": {
          "base_uri": "https://localhost:8080/",
          "height": 34
        },
        "outputId": "98b2ee76-43bf-42a0-e58f-d69b26fc490d"
      },
      "source": [
        "num_workers = 4\n",
        "\n",
        "dataset = torch.utils.data.TensorDataset(inputs, labels)\n",
        "loader2 = torch.utils.data.DataLoader(dataset,\n",
        "                                      batch_size=batch_size,\n",
        "                                      shuffle=True,\n",
        "                                      collate_fn=collate_fn,\n",
        "                                      drop_last=True,\n",
        "                                      num_workers=num_workers,\n",
        "                                      pin_memory=True)\n",
        "\n",
        "%timeit -n1 -r1 run_loader_cuda_non_blocking(loader2)"
      ],
      "execution_count": 18,
      "outputs": [
        {
          "output_type": "stream",
          "text": [
            "1 loop, best of 1: 3.41 s per loop\n"
          ],
          "name": "stdout"
        }
      ]
    },
    {
      "cell_type": "code",
      "metadata": {
        "id": "f3Rvu50EkgdR",
        "colab_type": "code",
        "colab": {}
      },
      "source": [
        ""
      ],
      "execution_count": null,
      "outputs": []
    }
  ]
}