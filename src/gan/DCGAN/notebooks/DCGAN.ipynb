{
  "nbformat": 4,
  "nbformat_minor": 0,
  "metadata": {
    "colab": {
      "name": "DCGAN.ipynb",
      "provenance": [],
      "collapsed_sections": [],
      "authorship_tag": "ABX9TyMtlltwSmf5qEHFsqDjdTES",
      "include_colab_link": true
    },
    "kernelspec": {
      "name": "python3",
      "display_name": "Python 3"
    },
    "accelerator": "GPU"
  },
  "cells": [
    {
      "cell_type": "markdown",
      "metadata": {
        "id": "view-in-github",
        "colab_type": "text"
      },
      "source": [
        "<a href=\"https://colab.research.google.com/github/KeisukeShimokawa/papers-challenge/blob/master/src/gan/DCGAN/notebooks/DCGAN.ipynb\" target=\"_parent\"><img src=\"https://colab.research.google.com/assets/colab-badge.svg\" alt=\"Open In Colab\"/></a>"
      ]
    },
    {
      "cell_type": "markdown",
      "metadata": {
        "id": "Q1itHiK4i2d-",
        "colab_type": "text"
      },
      "source": [
        "## session timeout"
      ]
    },
    {
      "cell_type": "code",
      "metadata": {
        "id": "3U__ABi2i2E2",
        "colab_type": "code",
        "outputId": "80582797-f15b-400f-d4b6-f6feb0c8f090",
        "colab": {
          "base_uri": "https://localhost:8080/",
          "height": 34
        }
      },
      "source": [
        "%%writefile access_colab.sh\n",
        "\n",
        "#!/bin/bash\n",
        "\n",
        "for i in `seq 0 12`\n",
        "do\n",
        "  echo \"[$i]\" ` date '+%y/%m/%d %H:%M:%S'` \"connected.\"\n",
        "  open <<自分のノートブックのURL>>\n",
        "  sleep 3600\n",
        "done"
      ],
      "execution_count": 1,
      "outputs": [
        {
          "output_type": "stream",
          "text": [
            "Writing access_colab.sh\n"
          ],
          "name": "stdout"
        }
      ]
    },
    {
      "cell_type": "code",
      "metadata": {
        "id": "M931QBEFjA-D",
        "colab_type": "code",
        "colab": {}
      },
      "source": [
        "!chmod 755 access_colab.sh"
      ],
      "execution_count": 0,
      "outputs": []
    },
    {
      "cell_type": "code",
      "metadata": {
        "id": "DJAqXhAcjBB-",
        "colab_type": "code",
        "outputId": "59a344a1-5d92-4b5d-ca5a-147b604c42bf",
        "colab": {
          "base_uri": "https://localhost:8080/",
          "height": 68
        }
      },
      "source": [
        "!./access_colab.sh"
      ],
      "execution_count": 3,
      "outputs": [
        {
          "output_type": "stream",
          "text": [
            "./access_colab.sh: line 9: warning: here-document at line 7 delimited by end-of-file (wanted `自分のノートブックのURL')\n",
            "./access_colab.sh: line 9: syntax error near unexpected token `newline'\n",
            "./access_colab.sh: line 9: `  open <<自分のノートブックのURL>>'\n"
          ],
          "name": "stdout"
        }
      ]
    },
    {
      "cell_type": "markdown",
      "metadata": {
        "id": "kuovcahii2A3",
        "colab_type": "text"
      },
      "source": [
        "## download"
      ]
    },
    {
      "cell_type": "code",
      "metadata": {
        "id": "LGij5RaOEd3O",
        "colab_type": "code",
        "colab": {}
      },
      "source": [
        "!rm -rf *.txt\n",
        "!rm -rf logs"
      ],
      "execution_count": 0,
      "outputs": []
    },
    {
      "cell_type": "code",
      "metadata": {
        "id": "7pmEpghPEiFL",
        "colab_type": "code",
        "outputId": "8810efec-c999-41a7-be9f-a5fb67b8cfe8",
        "colab": {
          "base_uri": "https://localhost:8080/",
          "height": 187
        }
      },
      "source": [
        "!nvidia-smi | head -n 10"
      ],
      "execution_count": 5,
      "outputs": [
        {
          "output_type": "stream",
          "text": [
            "Tue May 19 13:02:24 2020       \n",
            "+-----------------------------------------------------------------------------+\n",
            "| NVIDIA-SMI 440.82       Driver Version: 418.67       CUDA Version: 10.1     |\n",
            "|-------------------------------+----------------------+----------------------+\n",
            "| GPU  Name        Persistence-M| Bus-Id        Disp.A | Volatile Uncorr. ECC |\n",
            "| Fan  Temp  Perf  Pwr:Usage/Cap|         Memory-Usage | GPU-Util  Compute M. |\n",
            "|===============================+======================+======================|\n",
            "|   0  Tesla P100-PCIE...  Off  | 00000000:00:04.0 Off |                    0 |\n",
            "| N/A   33C    P0    25W / 250W |      0MiB / 16280MiB |      0%      Default |\n",
            "+-------------------------------+----------------------+----------------------+\n"
          ],
          "name": "stdout"
        }
      ]
    },
    {
      "cell_type": "code",
      "metadata": {
        "id": "kWTkqw1WGIuI",
        "colab_type": "code",
        "colab": {}
      },
      "source": [
        "!mkdir -p data\n",
        "!wget -q https://www.dropbox.com/s/j6tp062e14gg5yc/img_align_celeba.zip -O data/celeba.zip\n",
        "!unzip -q -o -d ./data data/celeba.zip\n",
        "!rm -rf data/celeba.zip"
      ],
      "execution_count": 0,
      "outputs": []
    },
    {
      "cell_type": "code",
      "metadata": {
        "id": "wpQMGD6EGOND",
        "colab_type": "code",
        "colab": {}
      },
      "source": [
        "!ls data"
      ],
      "execution_count": 0,
      "outputs": []
    },
    {
      "cell_type": "code",
      "metadata": {
        "id": "fHh9kUF6Eje0",
        "colab_type": "code",
        "colab": {}
      },
      "source": [
        "import os\n",
        "import sys\n",
        "import time\n",
        "import random\n",
        "import logging\n",
        "import dataclasses\n",
        "import numpy as np\n",
        "import matplotlib.pyplot as plt\n",
        "from pathlib import Path\n",
        "\n",
        "import torch\n",
        "from torch import nn, optim\n",
        "from torch.nn import functional as F\n",
        "from torch.autograd import Function, Variable\n",
        "from torch.utils.data import DataLoader\n",
        "from torch.utils.tensorboard import SummaryWriter\n",
        "from torchvision import datasets, transforms\n",
        "from torchvision.utils import save_image, make_grid\n",
        "from torchsummary import summary"
      ],
      "execution_count": 0,
      "outputs": []
    },
    {
      "cell_type": "code",
      "metadata": {
        "id": "MWIVSceUEjaa",
        "colab_type": "code",
        "colab": {}
      },
      "source": [
        "class Logger:\n",
        "    def __init__(self, log_dir, flush_secs):\n",
        "\n",
        "        self.log_dir = Path(log_dir)\n",
        "        self.flush_secs = flush_secs\n",
        "        self.logger = self._build_logger()\n",
        "        self.writers = {}\n",
        "\n",
        "    def _build_logger(self):\n",
        "        logger = logging.getLogger(str(self.log_dir))\n",
        "        logger.setLevel(logging.INFO)\n",
        "        # format\n",
        "        fmt_str = \"[%(levelname)s] %(asctime)s: \\t%(message)s\"\n",
        "        fmt = logging.Formatter(fmt_str, \"%Y-%m-%d %H-%M-%S\")\n",
        "        # stream handler\n",
        "        stm_handler = logging.StreamHandler(sys.stdout)\n",
        "        stm_handler.setLevel(logging.INFO)\n",
        "        stm_handler.setFormatter(fmt)\n",
        "        # file handler\n",
        "        file_handler = logging.FileHandler(\"training_log.txt\")\n",
        "        file_handler.setLevel(logging.INFO)\n",
        "        file_handler.setFormatter(fmt)\n",
        "        # add handler to logger\n",
        "        logger.addHandler(stm_handler)\n",
        "        logger.addHandler(file_handler)\n",
        "\n",
        "        return logger\n",
        "\n",
        "    def print_log(self, message):\n",
        "        self.logger.info(message)\n",
        "\n",
        "    def _build_writer(self, metrics):\n",
        "        writer = SummaryWriter(\n",
        "            log_dir=self.log_dir.joinpath(\"data\", metrics),\n",
        "            flush_secs=self.flush_secs\n",
        "        )\n",
        "        return writer\n",
        "\n",
        "    def write_summaries(self, metrics, value, global_step=None):\n",
        "        if metrics not in self.writers:\n",
        "            self.writers[metrics] = self._build_writer(metrics)\n",
        "\n",
        "        self.writers[metrics].add_scalar(metrics, value, global_step)\n",
        "\n",
        "    def add_image_summaries(self, tag, tensor, global_step=None):\n",
        "        n = min(tensor.size(0), 36)\n",
        "        image_tensor = make_grid(tensor[:n], nrow=6, padding=2, normalize=True)\n",
        "\n",
        "        if tag not in self.writers:\n",
        "            self.writers[tag] = self._build_writer(tag)\n",
        "\n",
        "        self.writers[tag].add_image(tag, image_tensor, global_step)\n",
        "\n",
        "    def close_writers(self):\n",
        "        for metrics in self.writers:\n",
        "            self.writers[metrics].close()"
      ],
      "execution_count": 0,
      "outputs": []
    },
    {
      "cell_type": "markdown",
      "metadata": {
        "id": "6Rq9gNPpEp5h",
        "colab_type": "text"
      },
      "source": [
        "## configuration"
      ]
    },
    {
      "cell_type": "code",
      "metadata": {
        "id": "92Var9QsEp2L",
        "colab_type": "code",
        "colab": {}
      },
      "source": [
        "@dataclasses.dataclass\n",
        "class Config:\n",
        "    # general settings\n",
        "    seed: int = 42\n",
        "    ngpu: int = 1\n",
        "    \n",
        "    # dataset\n",
        "    datapath: str = \"data/\"\n",
        "    num_workers: int = 2\n",
        "    image_size: int = 64\n",
        "\n",
        "    # model\n",
        "    nc: int = 3\n",
        "    nz: int = 100\n",
        "    ngf: int = 64\n",
        "    ndf: int = 64\n",
        "    use_sn: bool = True\n",
        "    use_cbm: bool = True\n",
        "\n",
        "    # training\n",
        "    n_epochs: int = 20\n",
        "    batch_size: int = 128\n",
        "    beta1: float = 0.\n",
        "    lrD: float = 1e-4\n",
        "    lrG: float = 1e-4\n",
        "    is_ortho: bool = True\n",
        "    factor: float = 1e-5\n",
        "\n",
        "    # logging\n",
        "    log_dir: str = \"logs\"\n",
        "    flush_secs: int = 5"
      ],
      "execution_count": 0,
      "outputs": []
    },
    {
      "cell_type": "code",
      "metadata": {
        "id": "veYKqX43Xstk",
        "colab_type": "code",
        "colab": {}
      },
      "source": [
        "# set configuraition\n",
        "cfg = Config()"
      ],
      "execution_count": 0,
      "outputs": []
    },
    {
      "cell_type": "code",
      "metadata": {
        "id": "00c7SHGPP9zR",
        "colab_type": "code",
        "colab": {}
      },
      "source": [
        "logger = Logger(cfg.log_dir, cfg.flush_secs)\n",
        "\n",
        "logger.print_log(f\"configuration: {cfg}\")"
      ],
      "execution_count": 0,
      "outputs": []
    },
    {
      "cell_type": "code",
      "metadata": {
        "id": "i1j_QM2DEi_3",
        "colab_type": "code",
        "colab": {}
      },
      "source": [
        "def set_seed(seed):\n",
        "    random.seed(seed)\n",
        "    np.random.seed(seed)\n",
        "    os.environ[\"PYTHONHASHSEED\"] = str(seed)\n",
        "    torch.manual_seed(seed)\n",
        "    torch.cuda.manual_seed(seed)"
      ],
      "execution_count": 0,
      "outputs": []
    },
    {
      "cell_type": "code",
      "metadata": {
        "id": "CRkswllhE86Q",
        "colab_type": "code",
        "colab": {}
      },
      "source": [
        "if cfg.seed:\n",
        "    set_seed(cfg.seed)\n",
        "    logger.print_log(f\"set random seed: {cfg.seed}\")"
      ],
      "execution_count": 0,
      "outputs": []
    },
    {
      "cell_type": "code",
      "metadata": {
        "id": "tNKPWZZ2GqhU",
        "colab_type": "code",
        "colab": {}
      },
      "source": [
        "is_cuda = cfg.ngpu > 0 and torch.cuda.is_available()\n",
        "device = torch.device(\"cuda:0\" if is_cuda else \"cpu\")\n",
        "\n",
        "logger.print_log(f\"device setting: {device}\")"
      ],
      "execution_count": 0,
      "outputs": []
    },
    {
      "cell_type": "code",
      "metadata": {
        "id": "oyznwe4mGqZk",
        "colab_type": "code",
        "colab": {}
      },
      "source": [
        ""
      ],
      "execution_count": 0,
      "outputs": []
    },
    {
      "cell_type": "markdown",
      "metadata": {
        "id": "Ezwh4hu1GinZ",
        "colab_type": "text"
      },
      "source": [
        "## dataset"
      ]
    },
    {
      "cell_type": "code",
      "metadata": {
        "id": "812FcaaJGika",
        "colab_type": "code",
        "colab": {}
      },
      "source": [
        "dataset = datasets.ImageFolder(\n",
        "    root=cfg.datapath,\n",
        "    transform=transforms.Compose([\n",
        "        transforms.Resize(cfg.image_size),\n",
        "        transforms.CenterCrop(cfg.image_size),\n",
        "        transforms.ToTensor(),\n",
        "        transforms.Normalize((0.5, 0.5, 0.5), (0.5, 0.5, 0.5)),\n",
        "    ])\n",
        ")\n",
        "\n",
        "dataloader = DataLoader(\n",
        "    dataset, \n",
        "    batch_size=cfg.batch_size,\n",
        "    shuffle=True, \n",
        "    num_workers=cfg.num_workers\n",
        ")\n",
        "\n",
        "logger.print_log(f\"dataset size: {len(dataset)}\")"
      ],
      "execution_count": 0,
      "outputs": []
    },
    {
      "cell_type": "code",
      "metadata": {
        "id": "UP0wFAV4Gihj",
        "colab_type": "code",
        "colab": {}
      },
      "source": [
        "# Plot some training images\n",
        "real_batch = next(iter(dataloader))\n",
        "plt.figure(figsize=(8,8))\n",
        "plt.axis(\"off\")\n",
        "plt.title(\"Training Images\")\n",
        "plt.imshow(\n",
        "    np.transpose(\n",
        "        make_grid(real_batch[0].to(device)[:64], normalize=True).cpu(),\n",
        "        (1,2,0)\n",
        "    )\n",
        ")"
      ],
      "execution_count": 0,
      "outputs": []
    },
    {
      "cell_type": "code",
      "metadata": {
        "id": "zM3NUU_ZT8cM",
        "colab_type": "code",
        "colab": {}
      },
      "source": [
        "logger.print_log(f\"sample real batch size: {real_batch[0].size()}\")\n",
        "logger.add_image_summaries(\"sample\", real_batch[0])"
      ],
      "execution_count": 0,
      "outputs": []
    },
    {
      "cell_type": "code",
      "metadata": {
        "id": "Mky3HAQ9T8YI",
        "colab_type": "code",
        "colab": {}
      },
      "source": [
        ""
      ],
      "execution_count": 0,
      "outputs": []
    },
    {
      "cell_type": "markdown",
      "metadata": {
        "id": "RJYQbkN4H44h",
        "colab_type": "text"
      },
      "source": [
        "## model"
      ]
    },
    {
      "cell_type": "code",
      "metadata": {
        "id": "9JPZCIqzwcOR",
        "colab_type": "code",
        "colab": {}
      },
      "source": [
        "def SNConv2d(*args, **kwargs):\n",
        "    return torch.nn.utils.spectral_norm(nn.Conv2d(*args, **kwargs))"
      ],
      "execution_count": 0,
      "outputs": []
    },
    {
      "cell_type": "code",
      "metadata": {
        "id": "2MfsthNNwcWO",
        "colab_type": "code",
        "colab": {}
      },
      "source": [
        "def SNLinear(*args, **kwargs):\n",
        "    return torch.nn.utils.spectral_norm(nn.Linear(*args, **kwargs))"
      ],
      "execution_count": 0,
      "outputs": []
    },
    {
      "cell_type": "code",
      "metadata": {
        "id": "d7PVie2wwZaV",
        "colab_type": "code",
        "colab": {}
      },
      "source": [
        "def SNEmbedding(*args, **kwargs):\n",
        "    return torch.nn.utils.spectral_norm(nn.Embedding(*args, **kwargs))"
      ],
      "execution_count": 0,
      "outputs": []
    },
    {
      "cell_type": "code",
      "metadata": {
        "id": "pLNSI7aywaCa",
        "colab_type": "code",
        "colab": {}
      },
      "source": [
        "class ConditionalBatchNorm2d(nn.Module):\n",
        "    def __init__(self, num_features, num_classes):\n",
        "        super().__init__()\n",
        "        self.num_features = num_features\n",
        "        self.bn = nn.BatchNorm2d(num_features, affine=False)\n",
        "        self.embed = nn.Embedding(num_classes, num_features * 2)\n",
        "        self.embed.weight_data[:, :num_features].normal_(1, 0.02)\n",
        "        self.embed.weight_data[:, num_features:].zero_()\n",
        "\n",
        "    def forward(self, x, y):\n",
        "        out = self.bn(x)\n",
        "        gamma, beta = self.embed(y).chunk(2, 1)\n",
        "        out = gamma.view(-1, self.num_features, 1, 1) * out + \\\n",
        "               beta.view(-1, self.num_features, 1, 1)\n",
        "\n",
        "        return out"
      ],
      "execution_count": 0,
      "outputs": []
    },
    {
      "cell_type": "code",
      "metadata": {
        "id": "y9wKDJ60wKUb",
        "colab_type": "code",
        "colab": {}
      },
      "source": [
        "def SNConvTranspose2d(*args, **kwargs):\n",
        "    return torch.nn.utils.spectral_norm(nn.ConvTranspose2d(*args, **kwargs))"
      ],
      "execution_count": 0,
      "outputs": []
    },
    {
      "cell_type": "code",
      "metadata": {
        "id": "bp9cWQNNH41U",
        "colab_type": "code",
        "colab": {}
      },
      "source": [
        "def weights_init(m):\n",
        "    classname = m.__class__.__name__\n",
        "    if classname.find('Conv') != -1:\n",
        "        nn.init.normal_(m.weight.data, 0.0, 0.02)\n",
        "    elif classname.find('BatchNorm') != -1:\n",
        "        nn.init.normal_(m.weight.data, 1.0, 0.02)\n",
        "        nn.init.constant_(m.bias.data, 0)"
      ],
      "execution_count": 0,
      "outputs": []
    },
    {
      "cell_type": "code",
      "metadata": {
        "id": "NwhpizznH4yG",
        "colab_type": "code",
        "colab": {}
      },
      "source": [
        "class Generator(nn.Module):\n",
        "    def __init__(self, ngpu, nz, ngf, nc, use_sn=False):\n",
        "        super(Generator, self).__init__()\n",
        "        self.ngpu = ngpu\n",
        "        self.main = nn.Sequential(\n",
        "            # input is Z, going into a convolution\n",
        "            nn.ConvTranspose2d( nz, ngf * 8, 4, 1, 0, bias=False) \n",
        "            if not use_sn else SNConvTranspose2d( nz, ngf * 8, 4, 1, 0, bias=False),\n",
        "            nn.BatchNorm2d(ngf * 8),\n",
        "            nn.ReLU(True),\n",
        "            # state size. (ngf*8) x 4 x 4\n",
        "            nn.ConvTranspose2d(ngf * 8, ngf * 4, 4, 2, 1, bias=False)\n",
        "            if not use_sn else SNConvTranspose2d(ngf * 8, ngf * 4, 4, 2, 1, bias=False),\n",
        "            nn.BatchNorm2d(ngf * 4),\n",
        "            nn.ReLU(True),\n",
        "            # state size. (ngf*4) x 8 x 8\n",
        "            nn.ConvTranspose2d( ngf * 4, ngf * 2, 4, 2, 1, bias=False)\n",
        "            if not use_sn else SNConvTranspose2d( ngf * 4, ngf * 2, 4, 2, 1, bias=False),\n",
        "            nn.BatchNorm2d(ngf * 2),\n",
        "            nn.ReLU(True),\n",
        "            # state size. (ngf*2) x 16 x 16\n",
        "            nn.ConvTranspose2d( ngf * 2, ngf, 4, 2, 1, bias=False)\n",
        "            if not use_sn else SNConvTranspose2d( ngf * 2, ngf, 4, 2, 1, bias=False),\n",
        "            nn.BatchNorm2d(ngf),\n",
        "            nn.ReLU(True),\n",
        "            # state size. (ngf) x 32 x 32\n",
        "            nn.ConvTranspose2d( ngf, nc, 4, 2, 1, bias=False)\n",
        "            if not use_sn else SNConvTranspose2d( ngf, nc, 4, 2, 1, bias=False),\n",
        "            nn.Tanh()\n",
        "            # state size. (nc) x 64 x 64\n",
        "        )\n",
        "\n",
        "    def forward(self, input):\n",
        "        return self.main(input)"
      ],
      "execution_count": 0,
      "outputs": []
    },
    {
      "cell_type": "code",
      "metadata": {
        "id": "jVIcZCwFFRAi",
        "colab_type": "code",
        "colab": {}
      },
      "source": [
        "# Create the generator\n",
        "netG = Generator(cfg.ngpu, cfg.nz, cfg.ngf, cfg.nc, cfg.use_sn).to(device)\n",
        "\n",
        "# Handle multi-gpu if desired\n",
        "if (device.type == 'cuda') and (cfg.ngpu > 1):\n",
        "    netG = nn.DataParallel(netG, list(range(cfg.ngpu)))\n",
        "\n",
        "# Apply the weights_init function to randomly initialize all weights\n",
        "#  to mean=0, stdev=0.2.\n",
        "netG.apply(weights_init)\n",
        "\n",
        "summary(netG, (cfg.nz, 1, 1))"
      ],
      "execution_count": 0,
      "outputs": []
    },
    {
      "cell_type": "code",
      "metadata": {
        "id": "45vWwH_rUQZ5",
        "colab_type": "code",
        "colab": {}
      },
      "source": [
        ""
      ],
      "execution_count": 0,
      "outputs": []
    },
    {
      "cell_type": "code",
      "metadata": {
        "id": "bgzP7eK8IRO7",
        "colab_type": "code",
        "colab": {}
      },
      "source": [
        "class Discriminator(nn.Module):\n",
        "    def __init__(self, ngpu, nc, ndf, use_sn=False):\n",
        "        super(Discriminator, self).__init__()\n",
        "        self.ngpu = ngpu\n",
        "        self.main = nn.Sequential(\n",
        "            # input is (nc) x 64 x 64\n",
        "            nn.Conv2d(nc, ndf, 4, 2, 1, bias=False)\n",
        "            if not use_sn else SNConv2d(nc, ndf, 4, 2, 1, bias=False),\n",
        "            nn.LeakyReLU(0.2, inplace=True),\n",
        "            # state size. (ndf) x 32 x 32\n",
        "            nn.Conv2d(ndf, ndf * 2, 4, 2, 1, bias=False)\n",
        "            if not use_sn else SNConv2d(ndf, ndf * 2, 4, 2, 1, bias=False),\n",
        "            nn.BatchNorm2d(ndf * 2),\n",
        "            nn.LeakyReLU(0.2, inplace=True),\n",
        "            # state size. (ndf*2) x 16 x 16\n",
        "            nn.Conv2d(ndf * 2, ndf * 4, 4, 2, 1, bias=False)\n",
        "            if not use_sn else SNConv2d(ndf * 2, ndf * 4, 4, 2, 1, bias=False),\n",
        "            nn.BatchNorm2d(ndf * 4),\n",
        "            nn.LeakyReLU(0.2, inplace=True),\n",
        "            # state size. (ndf*4) x 8 x 8\n",
        "            nn.Conv2d(ndf * 4, ndf * 8, 4, 2, 1, bias=False)\n",
        "            if not use_sn else SNConv2d(ndf * 4, ndf * 8, 4, 2, 1, bias=False),\n",
        "            nn.BatchNorm2d(ndf * 8),\n",
        "            nn.LeakyReLU(0.2, inplace=True),\n",
        "            # state size. (ndf*8) x 4 x 4\n",
        "            nn.Conv2d(ndf * 8, 1, 4, 1, 0, bias=False)\n",
        "            if not use_sn else SNConv2d(ndf * 8, 1, 4, 1, 0, bias=False),\n",
        "            nn.Sigmoid()\n",
        "        )\n",
        "\n",
        "    def forward(self, input):\n",
        "        return self.main(input)"
      ],
      "execution_count": 0,
      "outputs": []
    },
    {
      "cell_type": "code",
      "metadata": {
        "id": "YWYA3TpWIwyn",
        "colab_type": "code",
        "colab": {}
      },
      "source": [
        "# Create the Discriminator\n",
        "netD = Discriminator(cfg.ngpu, cfg.nc, cfg.ndf, cfg.use_sn).to(device)\n",
        "\n",
        "# Handle multi-gpu if desired\n",
        "if (device.type == 'cuda') and (cfg.ngpu > 1):\n",
        "    netD = nn.DataParallel(netD, list(range(cfg.ngpu)))\n",
        "\n",
        "# Apply the weights_init function to randomly initialize all weights\n",
        "#  to mean=0, stdev=0.2.\n",
        "netD.apply(weights_init)\n",
        "\n",
        "# Print the model\n",
        "summary(netD, (cfg.nc, cfg.image_size, cfg.image_size))"
      ],
      "execution_count": 0,
      "outputs": []
    },
    {
      "cell_type": "markdown",
      "metadata": {
        "id": "KsXHTtxMJDtf",
        "colab_type": "text"
      },
      "source": [
        "## training settings"
      ]
    },
    {
      "cell_type": "code",
      "metadata": {
        "id": "rlxQ31-r0aO3",
        "colab_type": "code",
        "colab": {}
      },
      "source": [
        ""
      ],
      "execution_count": 0,
      "outputs": []
    },
    {
      "cell_type": "code",
      "metadata": {
        "id": "_YsQVfvT0aG3",
        "colab_type": "code",
        "colab": {}
      },
      "source": [
        ""
      ],
      "execution_count": 0,
      "outputs": []
    },
    {
      "cell_type": "code",
      "metadata": {
        "id": "zXO-0ry3JDp9",
        "colab_type": "code",
        "colab": {}
      },
      "source": [
        "# Initialize BCELoss function\n",
        "criterion = nn.BCELoss()\n",
        "\n",
        "# Create batch of latent vectors that we will use to visualize\n",
        "#  the progression of the generator\n",
        "fixed_noise = torch.randn(64, cfg.nz, 1, 1, device=device)\n",
        "logger.print_log(f\"fixed noise shape: {fixed_noise.size()}\")\n",
        "\n",
        "# Establish convention for real and fake labels during training\n",
        "real_label = 1\n",
        "fake_label = 0\n",
        "\n",
        "# Setup Adam optimizers for both G and D\n",
        "optimizerD = optim.Adam(netD.parameters(), lr=cfg.lrD, betas=(cfg.beta1, 0.999))\n",
        "optimizerG = optim.Adam(netG.parameters(), lr=cfg.lrG, betas=(cfg.beta1, 0.999))"
      ],
      "execution_count": 0,
      "outputs": []
    },
    {
      "cell_type": "code",
      "metadata": {
        "id": "O2qCXM06JDl8",
        "colab_type": "code",
        "colab": {}
      },
      "source": [
        "def orthogonal_regularization(model, factor=1e-4):\n",
        "    with torch.enable_grad():\n",
        "        ortho_loss = torch.tensor(0.)\n",
        "        for name, param in model.named_parameters():\n",
        "            if \"bias\" not in name:\n",
        "                w = param.view(param.size(0), -1)\n",
        "                sym = ((w @ w.t()) * (1. - torch.eye(w.size(0), device=device)))\n",
        "                ortho_loss += factor * sym.abs().sum()\n",
        "\n",
        "    return ortho_loss"
      ],
      "execution_count": 0,
      "outputs": []
    },
    {
      "cell_type": "markdown",
      "metadata": {
        "id": "eFH-vDuMKIXa",
        "colab_type": "text"
      },
      "source": [
        "## training"
      ]
    },
    {
      "cell_type": "code",
      "metadata": {
        "id": "cFKjZAWoYGyX",
        "colab_type": "code",
        "colab": {}
      },
      "source": [
        "%load_ext tensorboard"
      ],
      "execution_count": 0,
      "outputs": []
    },
    {
      "cell_type": "code",
      "metadata": {
        "id": "16d8BArxYGvW",
        "colab_type": "code",
        "colab": {}
      },
      "source": [
        "%tensorboard --logdir {cfg.log_dir}"
      ],
      "execution_count": 0,
      "outputs": []
    },
    {
      "cell_type": "code",
      "metadata": {
        "id": "l9deUEKuIwvU",
        "colab_type": "code",
        "colab": {}
      },
      "source": [
        "# Lists to keep track of progress\n",
        "history = {\n",
        "    \"img_list\": [],\n",
        "    \"g_losses\": [],\n",
        "    \"d_losses\": []\n",
        "}\n",
        "iters = 0\n",
        "\n",
        "logger.print_log(\"Starting Training Loop...\")\n",
        "# For each epoch\n",
        "for epoch in range(cfg.n_epochs):\n",
        "    # For each batch in the dataloader\n",
        "    for i, data in enumerate(dataloader, 0):\n",
        "\n",
        "        ############################\n",
        "        # (1) Update D network: maximize log(D(x)) + log(1 - D(G(z)))\n",
        "        ###########################\n",
        "        ## Train with all-real batch\n",
        "        netD.zero_grad()\n",
        "        # Format batch\n",
        "        real_cpu = data[0].to(device)\n",
        "        b_size = real_cpu.size(0)\n",
        "        label = torch.full((b_size,), real_label, device=device)\n",
        "        # Forward pass real batch through D\n",
        "        output = netD(real_cpu).view(-1)\n",
        "        # Calculate loss on all-real batch\n",
        "        errD_real = criterion(output, label)\n",
        "        # Calculate gradients for D in backward pass\n",
        "        errD_real.backward()\n",
        "        D_x = output.mean().item()\n",
        "\n",
        "        ## Train with all-fake batch\n",
        "        # Generate batch of latent vectors\n",
        "        noise = torch.randn(b_size, cfg.nz, 1, 1, device=device)\n",
        "        # Generate fake image batch with G\n",
        "        fake = netG(noise)\n",
        "        label.fill_(fake_label)\n",
        "        # Classify all fake batch with D\n",
        "        output = netD(fake.detach()).view(-1)\n",
        "        # Calculate D's loss on the all-fake batch\n",
        "        errD_fake = criterion(output, label)\n",
        "        # Calculate the gradients for this batch\n",
        "        errD_fake.backward()\n",
        "        D_G_z1 = output.mean().item()\n",
        "        # Add the gradients from the all-real and all-fake batches\n",
        "        errD = errD_real + errD_fake\n",
        "        # Update D\n",
        "        optimizerD.step()\n",
        "\n",
        "        ############################\n",
        "        # (2) Update G network: maximize log(D(G(z)))\n",
        "        ###########################\n",
        "        netG.zero_grad()\n",
        "        label.fill_(real_label)  # fake labels are real for generator cost\n",
        "        # Since we just updated D, perform another forward pass of all-fake batch through D\n",
        "        output = netD(fake).view(-1)\n",
        "        # Calculate G's loss based on this output\n",
        "        errG = criterion(output, label)\n",
        "        if cfg.is_ortho:\n",
        "            ortho_loss = orthogonal_regularization(netG, factor=cfg.factor)\n",
        "            errG += ortho_loss\n",
        "        # Calculate gradients for G\n",
        "        errG.backward()\n",
        "        D_G_z2 = output.mean().item()\n",
        "        # Update G\n",
        "        optimizerG.step()\n",
        "\n",
        "        # Output training stats\n",
        "        if i % 300 == 0:\n",
        "            logger.print_log('[%d/%d][%d/%d]\\tLoss_D: %.4f\\tLoss_G: %.4f\\tD(x): %.4f\\tD(G(z)): %.4f / %.4f'\n",
        "                            % (epoch, cfg.n_epochs, i, len(dataloader),\n",
        "                            errD.item(), errG.item(), D_x, D_G_z1, D_G_z2))\n",
        "\n",
        "        # Save Losses for plotting later\n",
        "        history[\"g_losses\"].append(errG.item())\n",
        "        history[\"d_losses\"].append(errD.item())\n",
        "        logger.write_summaries(\"g_losses\", errG.item(), global_step=iters)\n",
        "        logger.write_summaries(\"d_losses\", errD.item(), global_step=iters)\n",
        "        logger.write_summaries(\"ortho_losses\", ortho_loss.item(), global_step=iters)\n",
        "\n",
        "        iters += 1\n",
        "\n",
        "    # Check how the generator is doing by saving G's output on fixed_noise\n",
        "    with torch.no_grad():\n",
        "        fake = netG(fixed_noise).detach().cpu()\n",
        "    history[\"img_list\"].append(make_grid(fake, padding=2, normalize=True))\n",
        "    # output to tensorboard\n",
        "    logger.add_image_summaries(\"img\", fake, global_step=epoch)\n"
      ],
      "execution_count": 0,
      "outputs": []
    },
    {
      "cell_type": "code",
      "metadata": {
        "id": "G2xALUvSIwsG",
        "colab_type": "code",
        "colab": {}
      },
      "source": [
        "plt.figure(figsize=(10,5))\n",
        "plt.title(\"Generator and Discriminator Loss During Training\")\n",
        "plt.plot(history[\"g_losses\"],label=\"G\")\n",
        "plt.plot(history[\"d_losses\"],label=\"D\")\n",
        "plt.xlabel(\"iterations\")\n",
        "plt.ylabel(\"Loss\")\n",
        "plt.legend()\n",
        "plt.show()"
      ],
      "execution_count": 0,
      "outputs": []
    },
    {
      "cell_type": "code",
      "metadata": {
        "id": "4YTkH4h_Iwdi",
        "colab_type": "code",
        "colab": {}
      },
      "source": [
        "#%%capture\n",
        "fig = plt.figure(figsize=(8,8))\n",
        "plt.axis(\"off\")\n",
        "ims = [[plt.imshow(np.transpose(i,(1,2,0)), animated=True)] for i in history[\"img_list\"]]\n",
        "ani = animation.ArtistAnimation(fig, ims, interval=500, repeat_delay=1000, blit=True)\n",
        "\n",
        "HTML(ani.to_jshtml())"
      ],
      "execution_count": 0,
      "outputs": []
    },
    {
      "cell_type": "code",
      "metadata": {
        "id": "Irskoy5AKRk7",
        "colab_type": "code",
        "colab": {}
      },
      "source": [
        "# Grab a batch of real images from the dataloader\n",
        "real_batch = next(iter(dataloader))\n",
        "\n",
        "# Plot the real images\n",
        "plt.figure(figsize=(15,15))\n",
        "plt.subplot(1,2,1)\n",
        "plt.axis(\"off\")\n",
        "plt.title(\"Real Images\")\n",
        "plt.imshow(np.transpose(make_grid(real_batch[0].to(device)[:64], padding=5, normalize=True).cpu(),(1,2,0)))\n",
        "\n",
        "# Plot the fake images from the last epoch\n",
        "plt.subplot(1,2,2)\n",
        "plt.axis(\"off\")\n",
        "plt.title(\"Fake Images\")\n",
        "plt.imshow(np.transpose(history[\"img_list\"][-1],(1,2,0)))\n",
        "plt.show()"
      ],
      "execution_count": 0,
      "outputs": []
    },
    {
      "cell_type": "code",
      "metadata": {
        "id": "VdqdF0hqmHQP",
        "colab_type": "code",
        "colab": {}
      },
      "source": [
        ""
      ],
      "execution_count": 0,
      "outputs": []
    }
  ]
}