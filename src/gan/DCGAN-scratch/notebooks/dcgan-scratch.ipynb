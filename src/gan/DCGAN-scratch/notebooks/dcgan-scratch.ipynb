{
 "cells": [
  {
   "cell_type": "code",
   "execution_count": 1,
   "metadata": {},
   "outputs": [
    {
     "output_type": "stream",
     "name": "stdout",
     "text": "Collecting git+https://github.com/philjd/contiguous_pytorch_params.git\n  Cloning https://github.com/philjd/contiguous_pytorch_params.git to /tmp/pip-req-build-lrn4q0hr\n  Running command git clone -q https://github.com/philjd/contiguous_pytorch_params.git /tmp/pip-req-build-lrn4q0hr\nRequirement already satisfied (use --upgrade to upgrade): contiguous-params==1.0 from git+https://github.com/philjd/contiguous_pytorch_params.git in /usr/local/lib/python3.6/dist-packages\nBuilding wheels for collected packages: contiguous-params\n  Building wheel for contiguous-params (setup.py) ... \u001b[?25l\u001b[?25hdone\n  Created wheel for contiguous-params: filename=contiguous_params-1.0-cp36-none-any.whl size=5164 sha256=8604134ed9a9678dbe6651db516da95fea68887f106bb57d74b27e44541b3d55\n  Stored in directory: /tmp/pip-ephem-wheel-cache-368bdglm/wheels/63/df/a3/834ec4f3ca06e3ce88ac71c1089075a15988d06f6e820b8717\nSuccessfully built contiguous-params\ntorch                         1.6.0+cu101    \ntorchsummary                  1.5.1          \ntorchtext                     0.3.1          \ntorchvision                   0.7.0+cu101    \n"
    }
   ],
   "source": [
    "!pip install git+https://github.com/philjd/contiguous_pytorch_params.git\n",
    "!pip list | grep torch"
   ]
  },
  {
   "cell_type": "code",
   "execution_count": 16,
   "metadata": {},
   "outputs": [],
   "source": [
    "import os\n",
    "import random\n",
    "import numpy as np\n",
    "\n",
    "import torch\n",
    "import torch.nn as nn\n",
    "import torch.nn.functional as F\n",
    "from torch.nn.utils import spectral_norm\n",
    "from torch.cuda.amp import GradScaler, autocast\n",
    "from torch.utils.data import DataLoader\n",
    "from torchvision import datasets as dsets\n",
    "from torchvision import transforms as T\n",
    "from torchsummary import summary\n",
    "\n",
    "from contiguous_params import ContiguousParams"
   ]
  },
  {
   "cell_type": "code",
   "execution_count": 9,
   "metadata": {},
   "outputs": [],
   "source": [
    "def set_seed(seed: int):\n",
    "    random.seed(seed)\n",
    "    np.random.seed(seed)\n",
    "    os.environ[\"PYTHONHASHSEED\"] = str(seed)\n",
    "    torch.random.manual_seed(seed)\n",
    "    torch.cuda.manual_seed(seed)\n",
    "    torch.backends.cudnn.benchmark = False\n",
    "    torch.backends.cudnn.deterministic = True\n",
    "\n",
    "\n",
    "set_seed(1234)"
   ]
  },
  {
   "cell_type": "code",
   "execution_count": 10,
   "metadata": {},
   "outputs": [
    {
     "output_type": "stream",
     "name": "stdout",
     "text": "Files already downloaded and verified\n"
    }
   ],
   "source": [
    "cifar10 = dsets.CIFAR10(\n",
    "    \"../data\",\n",
    "    train=True,\n",
    "    download=True,\n",
    "    transform=T.Compose([\n",
    "        T.Resize((32, 32)),\n",
    "        T.ToTensor(),\n",
    "        T.Normalize(mean=(0.5, 0.5, 0.5), std=(0.5, 0.5, 0.5))\n",
    "    ])\n",
    ")"
   ]
  },
  {
   "cell_type": "code",
   "execution_count": 11,
   "metadata": {},
   "outputs": [],
   "source": [
    "loader = DataLoader(\n",
    "    cifar10,\n",
    "    batch_size=64,\n",
    "    shuffle=True,\n",
    "    num_workers=4,\n",
    "    pin_memory=True,\n",
    ")"
   ]
  },
  {
   "cell_type": "code",
   "execution_count": 12,
   "metadata": {},
   "outputs": [],
   "source": [
    "def weights_init(m):\n",
    "    classname = m.__class__.__name__\n",
    "    if classname.find('Conv') != -1:\n",
    "        nn.init.normal_(m.weight.data, 0.0, 0.02)\n",
    "    elif classname.find('BatchNorm') != -1:\n",
    "        nn.init.normal_(m.weight.data, 1.0, 0.02)\n",
    "        nn.init.constant_(m.bias.data, 0)"
   ]
  },
  {
   "cell_type": "code",
   "execution_count": 29,
   "metadata": {},
   "outputs": [],
   "source": [
    "class DCGAN(nn.Module):\n",
    "\n",
    "    def __init__(self, nz, ngf, nc):\n",
    "        super().__init__()\n",
    "        self.nz = nz\n",
    "        self.ngf = ngf\n",
    "        self.nc = nc\n",
    "\n",
    "        # [B, nz, 1, 1] --> [B, ngf*8, 4, 4]\n",
    "        self.layer1 = nn.Sequential(\n",
    "            nn.ConvTranspose2d(nz, ngf * 8, kernel_size=4, stride=1, padding=0, bias=False),\n",
    "            nn.BatchNorm2d(ngf * 8),\n",
    "            nn.ReLU(inplace=True)\n",
    "        )\n",
    "\n",
    "        # [B, ngf*8, 4, 4] --> [B, ngf*4, 8, 8]\n",
    "        self.layer2 = nn.Sequential(\n",
    "            nn.ConvTranspose2d(ngf * 8, ngf * 4, kernel_size=4, stride=2, padding=1, bias=False),\n",
    "            nn.BatchNorm2d(ngf * 4),\n",
    "            nn.ReLU(inplace=True)\n",
    "        )\n",
    "\n",
    "        # [B, ngf*4, 8, 8] --> [B, ngf*2, 16, 16]\n",
    "        self.layer3 = nn.Sequential(\n",
    "            nn.ConvTranspose2d(ngf * 4, ngf * 2, kernel_size=4, stride=2, padding=1, bias=False),\n",
    "            nn.BatchNorm2d(ngf * 2),\n",
    "            nn.ReLU(inplace=True)\n",
    "        )\n",
    "\n",
    "        # [B, ngf*2, 16, 16] --> [B, ngf, 32, 32]\n",
    "        self.layer4 = nn.Sequential(\n",
    "            nn.ConvTranspose2d(ngf *2, ngf, kernel_size=4, stride=2, padding=1, bias=False),\n",
    "            nn.BatchNorm2d(ngf),\n",
    "            nn.ReLU(inplace=True)\n",
    "        )\n",
    "\n",
    "        self.logits = nn.Sequential(\n",
    "            nn.Conv2d(ngf, nc, kernel_size=1, stride=1, padding=0),\n",
    "            nn.Tanh()\n",
    "        )\n",
    "\n",
    "    def forward(self, x):\n",
    "        \"\"\"forward propagation\n",
    "\n",
    "        :param x: (Tensor) the input latent code of its shape [B, nz]\n",
    "        \"\"\"\n",
    "\n",
    "        x = x.view(-1, self.nz, 1, 1)\n",
    "        x = self.layer1(x)\n",
    "        x = self.layer2(x)\n",
    "        x = self.layer3(x)\n",
    "        x = self.layer4(x)\n",
    "        logits = self.logits(x)\n",
    "\n",
    "        return x"
   ]
  },
  {
   "cell_type": "code",
   "execution_count": 30,
   "metadata": {},
   "outputs": [
    {
     "output_type": "stream",
     "name": "stdout",
     "text": "----------------------------------------------------------------\n        Layer (type)               Output Shape         Param #\n================================================================\n   ConvTranspose2d-1            [-1, 512, 4, 4]         819,200\n       BatchNorm2d-2            [-1, 512, 4, 4]           1,024\n              ReLU-3            [-1, 512, 4, 4]               0\n   ConvTranspose2d-4            [-1, 256, 8, 8]       2,097,152\n       BatchNorm2d-5            [-1, 256, 8, 8]             512\n              ReLU-6            [-1, 256, 8, 8]               0\n   ConvTranspose2d-7          [-1, 128, 16, 16]         524,288\n       BatchNorm2d-8          [-1, 128, 16, 16]             256\n              ReLU-9          [-1, 128, 16, 16]               0\n  ConvTranspose2d-10           [-1, 64, 32, 32]         131,072\n      BatchNorm2d-11           [-1, 64, 32, 32]             128\n             ReLU-12           [-1, 64, 32, 32]               0\n           Conv2d-13            [-1, 3, 32, 32]             195\n             Tanh-14            [-1, 3, 32, 32]               0\n================================================================\nTotal params: 3,573,827\nTrainable params: 3,573,827\nNon-trainable params: 0\n----------------------------------------------------------------\nInput size (MB): 0.00\nForward/backward pass size (MB): 2.86\nParams size (MB): 13.63\nEstimated Total Size (MB): 16.49\n----------------------------------------------------------------\n"
    }
   ],
   "source": [
    "summary(DCGAN(100, 64, 3).to(\"cuda:0\"), (100,))"
   ]
  },
  {
   "cell_type": "code",
   "execution_count": 25,
   "metadata": {},
   "outputs": [
    {
     "output_type": "execute_result",
     "data": {
      "text/plain": "torch.Size([100])"
     },
     "metadata": {},
     "execution_count": 25
    }
   ],
   "source": [
    "class Discriminator(nn.Module):\n",
    "\n",
    "    def __init__(self, ndf):\n",
    "        super().__init__()\n",
    "        self.ndf = ndf\n",
    "\n",
    "        self.layer1 = nn.Sequential(\n",
    "            spectral_norm(nn.Conv2d(nc, ndf, kernel_size=4, stride=2, padding=11, bias=False)),\n",
    "            nn.BatchNorm2d(ndf),\n",
    "            nn.LeakyReLU(inplace=True)\n",
    "        )\n",
    "\n",
    "        "
   ]
  }
 ],
 "metadata": {
  "language_info": {
   "codemirror_mode": {
    "name": "ipython",
    "version": 3
   },
   "file_extension": ".py",
   "mimetype": "text/x-python",
   "name": "python",
   "nbconvert_exporter": "python",
   "pygments_lexer": "ipython3",
   "version": "3.6.9-final"
  },
  "orig_nbformat": 2,
  "kernelspec": {
   "name": "python3",
   "display_name": "Python 3"
  }
 },
 "nbformat": 4,
 "nbformat_minor": 2
}