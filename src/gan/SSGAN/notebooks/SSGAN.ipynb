{
  "nbformat": 4,
  "nbformat_minor": 0,
  "metadata": {
    "colab": {
      "name": "SSGAN.ipynb",
      "provenance": [],
      "collapsed_sections": [],
      "authorship_tag": "ABX9TyPf8ipPMosdnZghUxzYnREb",
      "include_colab_link": true
    },
    "kernelspec": {
      "name": "python3",
      "display_name": "Python 3"
    },
    "accelerator": "GPU",
    "widgets": {
      "application/vnd.jupyter.widget-state+json": {
        "41483322f1ae49b7972a15aedbe1af76": {
          "model_module": "@jupyter-widgets/controls",
          "model_name": "HBoxModel",
          "state": {
            "_view_name": "HBoxView",
            "_dom_classes": [],
            "_model_name": "HBoxModel",
            "_view_module": "@jupyter-widgets/controls",
            "_model_module_version": "1.5.0",
            "_view_count": null,
            "_view_module_version": "1.5.0",
            "box_style": "",
            "layout": "IPY_MODEL_d6b6f9dfd24b46ba97e404eaa4e9e6d1",
            "_model_module": "@jupyter-widgets/controls",
            "children": [
              "IPY_MODEL_ade161c5f6be4917964259298fa3c424",
              "IPY_MODEL_86afc9f8bc9e451b9fff726c19f67caf"
            ]
          }
        },
        "d6b6f9dfd24b46ba97e404eaa4e9e6d1": {
          "model_module": "@jupyter-widgets/base",
          "model_name": "LayoutModel",
          "state": {
            "_view_name": "LayoutView",
            "grid_template_rows": null,
            "right": null,
            "justify_content": null,
            "_view_module": "@jupyter-widgets/base",
            "overflow": null,
            "_model_module_version": "1.2.0",
            "_view_count": null,
            "flex_flow": null,
            "width": null,
            "min_width": null,
            "border": null,
            "align_items": null,
            "bottom": null,
            "_model_module": "@jupyter-widgets/base",
            "top": null,
            "grid_column": null,
            "overflow_y": null,
            "overflow_x": null,
            "grid_auto_flow": null,
            "grid_area": null,
            "grid_template_columns": null,
            "flex": null,
            "_model_name": "LayoutModel",
            "justify_items": null,
            "grid_row": null,
            "max_height": null,
            "align_content": null,
            "visibility": null,
            "align_self": null,
            "height": null,
            "min_height": null,
            "padding": null,
            "grid_auto_rows": null,
            "grid_gap": null,
            "max_width": null,
            "order": null,
            "_view_module_version": "1.2.0",
            "grid_template_areas": null,
            "object_position": null,
            "object_fit": null,
            "grid_auto_columns": null,
            "margin": null,
            "display": null,
            "left": null
          }
        },
        "ade161c5f6be4917964259298fa3c424": {
          "model_module": "@jupyter-widgets/controls",
          "model_name": "FloatProgressModel",
          "state": {
            "_view_name": "ProgressView",
            "style": "IPY_MODEL_00c44d74cf4b4c1ea84c4a70715e382b",
            "_dom_classes": [],
            "description": "",
            "_model_name": "FloatProgressModel",
            "bar_style": "success",
            "max": 1,
            "_view_module": "@jupyter-widgets/controls",
            "_model_module_version": "1.5.0",
            "value": 1,
            "_view_count": null,
            "_view_module_version": "1.5.0",
            "orientation": "horizontal",
            "min": 0,
            "description_tooltip": null,
            "_model_module": "@jupyter-widgets/controls",
            "layout": "IPY_MODEL_1237b9191a724ae8a130cbdd26bb7eca"
          }
        },
        "86afc9f8bc9e451b9fff726c19f67caf": {
          "model_module": "@jupyter-widgets/controls",
          "model_name": "HTMLModel",
          "state": {
            "_view_name": "HTMLView",
            "style": "IPY_MODEL_b879796d0c91412c9de67f2ab8f18412",
            "_dom_classes": [],
            "description": "",
            "_model_name": "HTMLModel",
            "placeholder": "​",
            "_view_module": "@jupyter-widgets/controls",
            "_model_module_version": "1.5.0",
            "value": " 170500096/? [00:07&lt;00:00, 22445752.37it/s]",
            "_view_count": null,
            "_view_module_version": "1.5.0",
            "description_tooltip": null,
            "_model_module": "@jupyter-widgets/controls",
            "layout": "IPY_MODEL_e421738176a2487a9c60addd98930f3e"
          }
        },
        "00c44d74cf4b4c1ea84c4a70715e382b": {
          "model_module": "@jupyter-widgets/controls",
          "model_name": "ProgressStyleModel",
          "state": {
            "_view_name": "StyleView",
            "_model_name": "ProgressStyleModel",
            "description_width": "initial",
            "_view_module": "@jupyter-widgets/base",
            "_model_module_version": "1.5.0",
            "_view_count": null,
            "_view_module_version": "1.2.0",
            "bar_color": null,
            "_model_module": "@jupyter-widgets/controls"
          }
        },
        "1237b9191a724ae8a130cbdd26bb7eca": {
          "model_module": "@jupyter-widgets/base",
          "model_name": "LayoutModel",
          "state": {
            "_view_name": "LayoutView",
            "grid_template_rows": null,
            "right": null,
            "justify_content": null,
            "_view_module": "@jupyter-widgets/base",
            "overflow": null,
            "_model_module_version": "1.2.0",
            "_view_count": null,
            "flex_flow": null,
            "width": null,
            "min_width": null,
            "border": null,
            "align_items": null,
            "bottom": null,
            "_model_module": "@jupyter-widgets/base",
            "top": null,
            "grid_column": null,
            "overflow_y": null,
            "overflow_x": null,
            "grid_auto_flow": null,
            "grid_area": null,
            "grid_template_columns": null,
            "flex": null,
            "_model_name": "LayoutModel",
            "justify_items": null,
            "grid_row": null,
            "max_height": null,
            "align_content": null,
            "visibility": null,
            "align_self": null,
            "height": null,
            "min_height": null,
            "padding": null,
            "grid_auto_rows": null,
            "grid_gap": null,
            "max_width": null,
            "order": null,
            "_view_module_version": "1.2.0",
            "grid_template_areas": null,
            "object_position": null,
            "object_fit": null,
            "grid_auto_columns": null,
            "margin": null,
            "display": null,
            "left": null
          }
        },
        "b879796d0c91412c9de67f2ab8f18412": {
          "model_module": "@jupyter-widgets/controls",
          "model_name": "DescriptionStyleModel",
          "state": {
            "_view_name": "StyleView",
            "_model_name": "DescriptionStyleModel",
            "description_width": "",
            "_view_module": "@jupyter-widgets/base",
            "_model_module_version": "1.5.0",
            "_view_count": null,
            "_view_module_version": "1.2.0",
            "_model_module": "@jupyter-widgets/controls"
          }
        },
        "e421738176a2487a9c60addd98930f3e": {
          "model_module": "@jupyter-widgets/base",
          "model_name": "LayoutModel",
          "state": {
            "_view_name": "LayoutView",
            "grid_template_rows": null,
            "right": null,
            "justify_content": null,
            "_view_module": "@jupyter-widgets/base",
            "overflow": null,
            "_model_module_version": "1.2.0",
            "_view_count": null,
            "flex_flow": null,
            "width": null,
            "min_width": null,
            "border": null,
            "align_items": null,
            "bottom": null,
            "_model_module": "@jupyter-widgets/base",
            "top": null,
            "grid_column": null,
            "overflow_y": null,
            "overflow_x": null,
            "grid_auto_flow": null,
            "grid_area": null,
            "grid_template_columns": null,
            "flex": null,
            "_model_name": "LayoutModel",
            "justify_items": null,
            "grid_row": null,
            "max_height": null,
            "align_content": null,
            "visibility": null,
            "align_self": null,
            "height": null,
            "min_height": null,
            "padding": null,
            "grid_auto_rows": null,
            "grid_gap": null,
            "max_width": null,
            "order": null,
            "_view_module_version": "1.2.0",
            "grid_template_areas": null,
            "object_position": null,
            "object_fit": null,
            "grid_auto_columns": null,
            "margin": null,
            "display": null,
            "left": null
          }
        }
      }
    }
  },
  "cells": [
    {
      "cell_type": "markdown",
      "metadata": {
        "id": "view-in-github",
        "colab_type": "text"
      },
      "source": [
        "<a href=\"https://colab.research.google.com/github/KeisukeShimokawa/papers-challenge/blob/master/src/gan/SSGAN/notebooks/SSGAN.ipynb\" target=\"_parent\"><img src=\"https://colab.research.google.com/assets/colab-badge.svg\" alt=\"Open In Colab\"/></a>"
      ]
    },
    {
      "cell_type": "code",
      "metadata": {
        "id": "Uqmuwzf7pbW5",
        "colab_type": "code",
        "colab": {
          "base_uri": "https://localhost:8080/",
          "height": 85
        },
        "outputId": "4f4346c2-8b09-426a-d571-5b56080a0645"
      },
      "source": [
        "!pip freeze | grep torch"
      ],
      "execution_count": 1,
      "outputs": [
        {
          "output_type": "stream",
          "text": [
            "torch==1.5.0+cu101\n",
            "torchsummary==1.5.1\n",
            "torchtext==0.3.1\n",
            "torchvision==0.6.0+cu101\n"
          ],
          "name": "stdout"
        }
      ]
    },
    {
      "cell_type": "code",
      "metadata": {
        "id": "qsIubGQJqHLu",
        "colab_type": "code",
        "colab": {
          "base_uri": "https://localhost:8080/",
          "height": 187
        },
        "outputId": "de15e4a4-cd18-4f18-e685-2ed4698dfc29"
      },
      "source": [
        "!nvidia-smi | head -n 10"
      ],
      "execution_count": 2,
      "outputs": [
        {
          "output_type": "stream",
          "text": [
            "Sat May 23 12:56:49 2020       \n",
            "+-----------------------------------------------------------------------------+\n",
            "| NVIDIA-SMI 440.82       Driver Version: 418.67       CUDA Version: 10.1     |\n",
            "|-------------------------------+----------------------+----------------------+\n",
            "| GPU  Name        Persistence-M| Bus-Id        Disp.A | Volatile Uncorr. ECC |\n",
            "| Fan  Temp  Perf  Pwr:Usage/Cap|         Memory-Usage | GPU-Util  Compute M. |\n",
            "|===============================+======================+======================|\n",
            "|   0  Tesla P100-PCIE...  Off  | 00000000:00:04.0 Off |                    0 |\n",
            "| N/A   37C    P0    25W / 250W |      0MiB / 16280MiB |      0%      Default |\n",
            "+-------------------------------+----------------------+----------------------+\n"
          ],
          "name": "stdout"
        }
      ]
    },
    {
      "cell_type": "markdown",
      "metadata": {
        "id": "nWYpjPU1ukg2",
        "colab_type": "text"
      },
      "source": [
        "## Config"
      ]
    },
    {
      "cell_type": "code",
      "metadata": {
        "id": "dd_8nyoeujgs",
        "colab_type": "code",
        "colab": {}
      },
      "source": [
        "import dataclasses"
      ],
      "execution_count": 0,
      "outputs": []
    },
    {
      "cell_type": "code",
      "metadata": {
        "id": "lSgyNOaIuwEz",
        "colab_type": "code",
        "colab": {}
      },
      "source": [
        "@dataclasses.dataclass\n",
        "class Config:\n",
        "    # global setting\n",
        "    use_cuda: bool = True\n",
        "    seed: int = 42\n",
        "\n",
        "    # dataset\n",
        "    dataset: str = \"cifar10\"\n",
        "    data_path: str = \"./data\"\n",
        "    batch_size: int = 128\n",
        "    image_size: int = 128\n",
        "\n",
        "    # model\n",
        "    resnet: bool = True\n",
        "    nz: int = 100\n",
        "    nc: int = 3\n",
        "    use_sn: bool = True\n",
        "    num_rot: int = 4\n",
        "    ssup: bool = True\n",
        "\n",
        "    # training\n",
        "    lrG: float = 1e-4\n",
        "    lrD: float = 1e-5\n",
        "    beta1: float = 0.9\n",
        "    beta2: float = 0.99\n",
        "    n_epoch: int = 200\n",
        "    weight_rot_g: float = 0.5\n",
        "    weight_rot_d: float = 1.0\n",
        "\n",
        "    @property\n",
        "    def betas(self):\n",
        "        return (self.beta1, self.beta2)\n",
        "\n",
        "    @property\n",
        "    def is_cuda(self):\n",
        "        return self.use_cuda and torch.cuda.is_available()"
      ],
      "execution_count": 0,
      "outputs": []
    },
    {
      "cell_type": "code",
      "metadata": {
        "id": "_EK-HuMoujdW",
        "colab_type": "code",
        "colab": {
          "base_uri": "https://localhost:8080/",
          "height": 54
        },
        "outputId": "8c9ed9fe-56da-46ee-a961-8577c7351f91"
      },
      "source": [
        "cfg = Config()\n",
        "\n",
        "print(cfg)"
      ],
      "execution_count": 123,
      "outputs": [
        {
          "output_type": "stream",
          "text": [
            "Config(use_cuda=True, seed=42, dataset='cifar10', data_path='./data', batch_size=128, image_size=128, resnet=True, nz=100, nc=3, use_sn=True, num_rot=4, ssup=True, lrG=0.0001, lrD=1e-05, beta1=0.9, beta2=0.99, n_epoch=200, weight_rot_g=0.5, weight_rot_d=1.0)\n"
          ],
          "name": "stdout"
        }
      ]
    },
    {
      "cell_type": "code",
      "metadata": {
        "id": "Tzjip-t0pAxm",
        "colab_type": "code",
        "colab": {}
      },
      "source": [
        "import os\n",
        "import random\n",
        "import numpy as np\n",
        "import torch\n",
        "\n",
        "\n",
        "def set_seed(seed):\n",
        "    random.seed(seed)\n",
        "    np.random.seed(seed)\n",
        "    os.environ[\"PYTHONHASHSEED\"] = str(seed)\n",
        "    torch.manual_seed(seed)\n",
        "    torch.cuda.manual_seed(seed)\n",
        "    torch.backends.cudnn.deterministic = True\n",
        "    torch.backends.cudnn.benchmark = False"
      ],
      "execution_count": 0,
      "outputs": []
    },
    {
      "cell_type": "code",
      "metadata": {
        "id": "ijw84r57pdSp",
        "colab_type": "code",
        "colab": {
          "base_uri": "https://localhost:8080/",
          "height": 34
        },
        "outputId": "016b9379-7a94-4c4b-d4bd-7bf2fad6e5a6"
      },
      "source": [
        "if cfg.seed:\n",
        "    set_seed(cfg.seed)\n",
        "    print(f\"set seed: {cfg.seed}\")"
      ],
      "execution_count": 35,
      "outputs": [
        {
          "output_type": "stream",
          "text": [
            "set seed: 42\n"
          ],
          "name": "stdout"
        }
      ]
    },
    {
      "cell_type": "code",
      "metadata": {
        "id": "RZTzJ6vQpmT-",
        "colab_type": "code",
        "colab": {
          "base_uri": "https://localhost:8080/",
          "height": 34
        },
        "outputId": "cad4f7cc-fdbc-44bb-e2fa-674249240e83"
      },
      "source": [
        "is_cuda = cfg.use_cuda and torch.cuda.is_available()\n",
        "device = torch.device(\"cuda:0\" if is_cuda else \"cpu\")\n",
        "\n",
        "print(f\"set device: {device}\")"
      ],
      "execution_count": 36,
      "outputs": [
        {
          "output_type": "stream",
          "text": [
            "set device: cuda:0\n"
          ],
          "name": "stdout"
        }
      ]
    },
    {
      "cell_type": "code",
      "metadata": {
        "id": "NUZz5sbopmO1",
        "colab_type": "code",
        "colab": {}
      },
      "source": [
        ""
      ],
      "execution_count": 0,
      "outputs": []
    },
    {
      "cell_type": "markdown",
      "metadata": {
        "id": "G-jVznkqqbM2",
        "colab_type": "text"
      },
      "source": [
        "## Dataset"
      ]
    },
    {
      "cell_type": "code",
      "metadata": {
        "id": "86AjIRdzudP_",
        "colab_type": "code",
        "colab": {}
      },
      "source": [
        "import numpy as np\n",
        "import matplotlib.pyplot as plt\n",
        "from torchvision.utils import make_grid, save_image"
      ],
      "execution_count": 0,
      "outputs": []
    },
    {
      "cell_type": "code",
      "metadata": {
        "id": "ojpFQQXAqglY",
        "colab_type": "code",
        "colab": {}
      },
      "source": [
        "import torch\n",
        "from torch.utils.data import DataLoader\n",
        "from torchvision import datasets as dsets\n",
        "from torchvision import transforms"
      ],
      "execution_count": 0,
      "outputs": []
    },
    {
      "cell_type": "code",
      "metadata": {
        "id": "0JMj2f7vqgii",
        "colab_type": "code",
        "colab": {}
      },
      "source": [
        "def get_cifar10(cfg):\n",
        "    all_transforms = transforms.Compose([\n",
        "        transforms.Resize(cfg.image_size),\n",
        "        transforms.ToTensor(),\n",
        "        transforms.Normalize((0.5,0.5,0.5), (0.5,0.5,0.5))\n",
        "    ])\n",
        "\n",
        "    train_data = dsets.CIFAR10(\n",
        "        root=cfg.data_path,\n",
        "        train=True,\n",
        "        download=True,\n",
        "        transform=all_transforms\n",
        "    )\n",
        "    test_data = dsets.CIFAR10(\n",
        "        root=cfg.data_path,\n",
        "        train=False,\n",
        "        transform=all_transforms\n",
        "    )\n",
        "\n",
        "    train_loader = DataLoader(train_data, batch_size=cfg.batch_size, shuffle=True)\n",
        "    test_loader  = DataLoader(test_data,  batch_size=cfg.batch_size, shuffle=True)\n",
        "\n",
        "    return train_loader, test_loader"
      ],
      "execution_count": 0,
      "outputs": []
    },
    {
      "cell_type": "code",
      "metadata": {
        "id": "sHPcetx-ufvS",
        "colab_type": "code",
        "colab": {
          "base_uri": "https://localhost:8080/",
          "height": 83,
          "referenced_widgets": [
            "41483322f1ae49b7972a15aedbe1af76",
            "d6b6f9dfd24b46ba97e404eaa4e9e6d1",
            "ade161c5f6be4917964259298fa3c424",
            "86afc9f8bc9e451b9fff726c19f67caf",
            "00c44d74cf4b4c1ea84c4a70715e382b",
            "1237b9191a724ae8a130cbdd26bb7eca",
            "b879796d0c91412c9de67f2ab8f18412",
            "e421738176a2487a9c60addd98930f3e"
          ]
        },
        "outputId": "459cdf79-4c37-44e4-f030-863dd237d13c"
      },
      "source": [
        "train_loader, test_loader = get_cifar10(cfg)"
      ],
      "execution_count": 9,
      "outputs": [
        {
          "output_type": "stream",
          "text": [
            "Downloading https://www.cs.toronto.edu/~kriz/cifar-10-python.tar.gz to ./data/cifar-10-python.tar.gz\n"
          ],
          "name": "stdout"
        },
        {
          "output_type": "display_data",
          "data": {
            "application/vnd.jupyter.widget-view+json": {
              "model_id": "41483322f1ae49b7972a15aedbe1af76",
              "version_minor": 0,
              "version_major": 2
            },
            "text/plain": [
              "HBox(children=(FloatProgress(value=1.0, bar_style='info', max=1.0), HTML(value='')))"
            ]
          },
          "metadata": {
            "tags": []
          }
        },
        {
          "output_type": "stream",
          "text": [
            "Extracting ./data/cifar-10-python.tar.gz to ./data\n"
          ],
          "name": "stdout"
        }
      ]
    },
    {
      "cell_type": "code",
      "metadata": {
        "id": "FPD6pmZeqgfI",
        "colab_type": "code",
        "colab": {
          "base_uri": "https://localhost:8080/",
          "height": 292
        },
        "outputId": "5cbc07ab-e5d4-4434-f4bc-6c201464b598"
      },
      "source": [
        "images, labels = next(iter(train_loader))\n",
        "\n",
        "grid_tensor = np.transpose(make_grid(images[:32], padding=2, normalize=True).numpy(), (1,2,0))\n",
        "plt.figure(figsize=(8, 8))\n",
        "plt.imshow(grid_tensor)"
      ],
      "execution_count": 10,
      "outputs": [
        {
          "output_type": "execute_result",
          "data": {
            "text/plain": [
              "<matplotlib.image.AxesImage at 0x7fdd5b40b160>"
            ]
          },
          "metadata": {
            "tags": []
          },
          "execution_count": 10
        },
        {
          "output_type": "stream",
          "text": [
            "\n"
          ],
          "name": "stdout"
        },
        {
          "output_type": "display_data",
          "data": {
            "image/png": "[encoded data removed]",
            "text/plain": [
              "<Figure size 576x576 with 1 Axes>"
            ]
          },
          "metadata": {
            "tags": [],
            "needs_background": "light"
          }
        }
      ]
    },
    {
      "cell_type": "markdown",
      "metadata": {
        "id": "3Nkj8_M2qgcG",
        "colab_type": "text"
      },
      "source": [
        "## Model"
      ]
    },
    {
      "cell_type": "markdown",
      "metadata": {
        "id": "YILlRQapxl6D",
        "colab_type": "text"
      },
      "source": [
        "### Modules"
      ]
    },
    {
      "cell_type": "code",
      "metadata": {
        "id": "gG6XGGhtqJx_",
        "colab_type": "code",
        "colab": {}
      },
      "source": [
        "import torch\n",
        "import torch.nn as nn\n",
        "import torch.nn.functional as F\n",
        "from torch.nn.utils import spectral_norm\n",
        "from torchsummary import summary"
      ],
      "execution_count": 0,
      "outputs": []
    },
    {
      "cell_type": "code",
      "metadata": {
        "id": "YQwsTHNiqJu2",
        "colab_type": "code",
        "colab": {}
      },
      "source": [
        "def log_sum_exp(x, axis=-1):\n",
        "    m = torch.max(x, keepdim=True)\n",
        "    return m + torch.logsumexp(x - m, dim=1, keepdim=True)"
      ],
      "execution_count": 0,
      "outputs": []
    },
    {
      "cell_type": "code",
      "metadata": {
        "id": "kVVSF9ckzGme",
        "colab_type": "code",
        "colab": {}
      },
      "source": [
        "class Conv2d(nn.Module):\n",
        "\n",
        "    def __init__(self, in_channels, out_channels, kernel_size=4, stride=2, padding=1, use_sn=True):\n",
        "        super(Conv2d, self).__init__()\n",
        "\n",
        "        self.conv = nn.Conv2d(in_channels, out_channels, kernel_size, stride, padding)\n",
        "        if use_sn:\n",
        "            self.conv = spectral_norm(self.conv)\n",
        "\n",
        "    def forward(self, inputs):\n",
        "        out = self.conv(inputs)\n",
        "        return out"
      ],
      "execution_count": 0,
      "outputs": []
    },
    {
      "cell_type": "code",
      "metadata": {
        "id": "zvte_DVCzGjI",
        "colab_type": "code",
        "colab": {}
      },
      "source": [
        "class ConvTranspose2d(nn.Module):\n",
        "\n",
        "    def __init__(self, in_channels, out_channels, kernel_size=4, stride=2, padding=1, use_sn=True, iter=-1):\n",
        "        super(ConvTranspose2d, self).__init__()\n",
        "\n",
        "        self.convtranspose = nn.ConvTranspose2d(in_channels, out_channels, kernel_size, stride, padding)\n",
        "        if use_sn:\n",
        "            self.convtranspose = spectral_norm(self.convtranspose)\n",
        "\n",
        "    def forward(self, inputs):\n",
        "        out = self.convtranspose(inputs)\n",
        "        return out"
      ],
      "execution_count": 0,
      "outputs": []
    },
    {
      "cell_type": "code",
      "metadata": {
        "id": "j3ejK0XkqJr7",
        "colab_type": "code",
        "colab": {}
      },
      "source": [
        "class Residual_G(nn.Module):\n",
        "\n",
        "    def __init__(self, in_channels, out_channels, kernel_size=3, stride=1, use_sn=True, is_up=True):\n",
        "        super(Residual_G, self).__init__()\n",
        "\n",
        "        self.is_up = is_up\n",
        "        self.activation = nn.LeakyReLU(0.2, inplace=True)\n",
        "        self.bn1 = nn.BatchNorm2d(in_channels)\n",
        "        self.bn2 = nn.BatchNorm2d(out_channels)\n",
        "        self.upsample = nn.Upsample(scale_factor=2, mode=\"nearest\")\n",
        "        self.conv_short = Conv2d(in_channels, out_channels, kernel_size=1, stride=1, \n",
        "                                 padding=0, use_sn = False)\n",
        "        self.conv1 = Conv2d(in_channels, out_channels, kernel_size=kernel_size, \n",
        "                            stride=stride, padding=1, use_sn=use_sn)\n",
        "        self.conv2 = Conv2d(out_channels, out_channels, kernel_size=kernel_size, \n",
        "                            stride=stride, padding=1, use_sn=use_sn)\n",
        "        \n",
        "    def forward(self, inputs):\n",
        "        residual = inputs\n",
        "        out = self.activation(self.bn1(inputs))\n",
        "        if self.is_up:\n",
        "            out = self.upsample(out)\n",
        "        out = self.conv1(out)\n",
        "        out = self.activation(self.bn2(out))\n",
        "        out = self.conv2(out)\n",
        "\n",
        "        if self.is_up:\n",
        "            residual = self.upsample(residual)\n",
        "        residual = self.conv_short(residual)\n",
        "\n",
        "        return out + residual"
      ],
      "execution_count": 0,
      "outputs": []
    },
    {
      "cell_type": "code",
      "metadata": {
        "id": "veiZ-7oh8CSN",
        "colab_type": "code",
        "colab": {
          "base_uri": "https://localhost:8080/",
          "height": 34
        },
        "outputId": "258e3ecf-47c9-4787-9a9d-98c415ceffa9"
      },
      "source": [
        "Residual_G(32, 64, 3, 1)(torch.randn(10, 32, 64, 64)).shape"
      ],
      "execution_count": 51,
      "outputs": [
        {
          "output_type": "execute_result",
          "data": {
            "text/plain": [
              "torch.Size([10, 64, 128, 128])"
            ]
          },
          "metadata": {
            "tags": []
          },
          "execution_count": 51
        }
      ]
    },
    {
      "cell_type": "code",
      "metadata": {
        "id": "0nBr3n6v3BD8",
        "colab_type": "code",
        "colab": {}
      },
      "source": [
        "class Residual_D(nn.Module):\n",
        "\n",
        "    def __init__(self, in_channels, out_channels, kernel_size=3, stride=1, use_sn=True, is_down=True, is_start=False):\n",
        "        super(Residual_D, self).__init__()\n",
        "\n",
        "        self.is_down = is_down\n",
        "        self.is_start = is_start\n",
        "        self.activation = nn.LeakyReLU(0.2, inplace=True)\n",
        "        self.avgpool_short = nn.AvgPool2d(2, 2)\n",
        "        self.conv_short = Conv2d(in_channels, out_channels, kernel_size=1, stride=1, \n",
        "                                 padding=0, use_sn = False)\n",
        "        self.conv1 = Conv2d(in_channels, out_channels, kernel_size=kernel_size, stride=stride, \n",
        "                            padding=1, use_sn=use_sn)\n",
        "        self.conv2 = Conv2d(out_channels, out_channels, kernel_size=kernel_size, stride=stride, \n",
        "                            padding=1, use_sn=use_sn)\n",
        "        self.avgpool2 = nn.AvgPool2d(2, 2)\n",
        "\n",
        "    def forward(self, inputs):\n",
        "        residual = inputs\n",
        "        if self.is_start:\n",
        "            out = self.activation(self.conv1(inputs))\n",
        "            out = self.activation(self.conv2(out))\n",
        "            if self.is_down:\n",
        "                out = self.avgpool2(out)\n",
        "        else:\n",
        "            out = self.conv1(self.activation(inputs))\n",
        "            out = self.conv2(self.activation(out))\n",
        "            if self.is_down:\n",
        "                out = self.avgpool2(out)\n",
        "\n",
        "        if self.is_down:\n",
        "            residual = self.avgpool_short(residual)\n",
        "        residual = self.conv_short(residual)\n",
        "\n",
        "        return out + residual"
      ],
      "execution_count": 0,
      "outputs": []
    },
    {
      "cell_type": "code",
      "metadata": {
        "id": "AOnvUELI3BBQ",
        "colab_type": "code",
        "colab": {
          "base_uri": "https://localhost:8080/",
          "height": 34
        },
        "outputId": "2f24ee8d-d81d-44d1-b92a-55f45f903dd4"
      },
      "source": [
        "Residual_D(32, 64, 3, 1)(torch.randn(10, 32, 64, 64)).shape"
      ],
      "execution_count": 18,
      "outputs": [
        {
          "output_type": "execute_result",
          "data": {
            "text/plain": [
              "torch.Size([10, 64, 32, 32])"
            ]
          },
          "metadata": {
            "tags": []
          },
          "execution_count": 18
        }
      ]
    },
    {
      "cell_type": "markdown",
      "metadata": {
        "id": "u2ZYV8F__aUZ",
        "colab_type": "text"
      },
      "source": [
        "### Generator"
      ]
    },
    {
      "cell_type": "code",
      "metadata": {
        "id": "sOcE7nMB_aQc",
        "colab_type": "code",
        "colab": {}
      },
      "source": [
        "class VanillaGenerator(nn.Module):\n",
        "\n",
        "    def __init__(self, nz, nc, image_size=32):\n",
        "        super(VanillaGenerator, self).__init__()\n",
        "\n",
        "        self.nz = nz\n",
        "        self.nc = nc\n",
        "        self.image_size = image_size\n",
        "        if image_size == 32:  self.s = 4\n",
        "        if image_size == 64:  self.s = 8\n",
        "        if image_size == 128: self.s = 16\n",
        "\n",
        "        self.activation = nn.ReLU(inplace=True)\n",
        "        self.linear_first = nn.Linear(nz, self.s*self.s*256)\n",
        "        self.bn1 = nn.BatchNorm1d(self.s*self.s*256)\n",
        "        self.conv2 = ConvTranspose2d(256, 256, kernel_size=4, stride=2, padding=1)\n",
        "        self.bn2 = nn.BatchNorm2d(256)\n",
        "        self.conv3 = ConvTranspose2d(256, 128, kernel_size=4, stride=2, padding=1)\n",
        "        self.bn3 = nn.BatchNorm2d(128)\n",
        "        self.conv4 = ConvTranspose2d(128,  64, kernel_size=4, stride=2, padding=1)\n",
        "        self.bn4 = nn.BatchNorm2d(64)\n",
        "        self.conv_last = ConvTranspose2d(64,  nc, kernel_size=3, stride=1, padding=1)\n",
        "        self.tanh = nn.Tanh()\n",
        "\n",
        "    def forward(self, inputs):\n",
        "        out = self.activation(self.linear_first(inputs))\n",
        "        out = out.view(-1, 256, self.s, self.s)\n",
        "        out = self.activation(self.bn2(self.conv2(out)))\n",
        "        out = self.activation(self.bn3(self.conv3(out)))\n",
        "        out = self.activation(self.bn4(self.conv4(out)))\n",
        "        out = self.conv_last(out)\n",
        "\n",
        "        return self.tanh(out)\n",
        "\n",
        "    def sample_latent_codes(self, batch_size):\n",
        "        return torch.randn((batch_size, self.nz))"
      ],
      "execution_count": 0,
      "outputs": []
    },
    {
      "cell_type": "code",
      "metadata": {
        "id": "Vvq6pGKA_aM6",
        "colab_type": "code",
        "colab": {
          "base_uri": "https://localhost:8080/",
          "height": 34
        },
        "outputId": "7c69a8d7-823c-473b-8e38-43172c72bebc"
      },
      "source": [
        "VanillaGenerator(100, 3, 32)(torch.randn(10, 100)).shape"
      ],
      "execution_count": 47,
      "outputs": [
        {
          "output_type": "execute_result",
          "data": {
            "text/plain": [
              "torch.Size([10, 3, 32, 32])"
            ]
          },
          "metadata": {
            "tags": []
          },
          "execution_count": 47
        }
      ]
    },
    {
      "cell_type": "code",
      "metadata": {
        "id": "8sgAHvkUqJoy",
        "colab_type": "code",
        "colab": {
          "base_uri": "https://localhost:8080/",
          "height": 527
        },
        "outputId": "51443609-019f-4ca4-b6c3-f6e76d7f1967"
      },
      "source": [
        "summary(VanillaGenerator(100, 3, 32).to(device), (100,))"
      ],
      "execution_count": 92,
      "outputs": [
        {
          "output_type": "stream",
          "text": [
            "----------------------------------------------------------------\n",
            "        Layer (type)               Output Shape         Param #\n",
            "================================================================\n",
            "            Linear-1                 [-1, 4096]         413,696\n",
            "              ReLU-2                 [-1, 4096]               0\n",
            "   ConvTranspose2d-3            [-1, 256, 8, 8]       1,048,832\n",
            "   ConvTranspose2d-4            [-1, 256, 8, 8]               0\n",
            "       BatchNorm2d-5            [-1, 256, 8, 8]             512\n",
            "              ReLU-6            [-1, 256, 8, 8]               0\n",
            "   ConvTranspose2d-7          [-1, 128, 16, 16]         524,416\n",
            "   ConvTranspose2d-8          [-1, 128, 16, 16]               0\n",
            "       BatchNorm2d-9          [-1, 128, 16, 16]             256\n",
            "             ReLU-10          [-1, 128, 16, 16]               0\n",
            "  ConvTranspose2d-11           [-1, 64, 32, 32]         131,136\n",
            "  ConvTranspose2d-12           [-1, 64, 32, 32]               0\n",
            "      BatchNorm2d-13           [-1, 64, 32, 32]             128\n",
            "             ReLU-14           [-1, 64, 32, 32]               0\n",
            "  ConvTranspose2d-15            [-1, 3, 32, 32]           1,731\n",
            "  ConvTranspose2d-16            [-1, 3, 32, 32]               0\n",
            "             Tanh-17            [-1, 3, 32, 32]               0\n",
            "================================================================\n",
            "Total params: 2,120,707\n",
            "Trainable params: 2,120,707\n",
            "Non-trainable params: 0\n",
            "----------------------------------------------------------------\n",
            "Input size (MB): 0.00\n",
            "Forward/backward pass size (MB): 3.63\n",
            "Params size (MB): 8.09\n",
            "Estimated Total Size (MB): 11.72\n",
            "----------------------------------------------------------------\n"
          ],
          "name": "stdout"
        }
      ]
    },
    {
      "cell_type": "code",
      "metadata": {
        "id": "deXTDaN7qJla",
        "colab_type": "code",
        "colab": {}
      },
      "source": [
        "class ResNetGenerator(nn.Module):\n",
        "\n",
        "    def __init__(self, nz, nc, image_size=32):\n",
        "        super(ResNetGenerator, self).__init__()\n",
        "\n",
        "        self.nz = nz\n",
        "        self.nc = nc\n",
        "        self.image_size = image_size\n",
        "        if image_size == 32:  self.s = 4\n",
        "        if image_size == 64:  self.s = 8\n",
        "        if image_size == 128: self.s = 16\n",
        "\n",
        "        self.activation = nn.ReLU(inplace=True)\n",
        "        self.linear_first = nn.Linear(nz, self.s*self.s*256)\n",
        "        self.block1 = Residual_G(256, 256, is_up=True)\n",
        "        self.block2 = Residual_G(256, 256, is_up=True)\n",
        "        self.block3 = Residual_G(256, 256, is_up=True)\n",
        "        self.conv_last = ConvTranspose2d(256,  nc, kernel_size=3, stride=1, padding=1)\n",
        "        self.bn = nn.BatchNorm2d(256)\n",
        "        self.tanh = nn.Tanh()\n",
        "\n",
        "    def forward(self, inputs):\n",
        "        out = self.activation(self.linear_first(inputs))\n",
        "        out = out.view(-1, 256, self.s, self.s)\n",
        "        out = self.block1(out)\n",
        "        out = self.block2(out)\n",
        "        out = self.block3(out)\n",
        "        out = self.conv_last(self.activation(self.bn(out)))\n",
        "\n",
        "        return self.tanh(out)\n",
        "\n",
        "    def sample_latent_codes(self, batch_size):\n",
        "        return torch.randn((batch_size, self.nz))"
      ],
      "execution_count": 0,
      "outputs": []
    },
    {
      "cell_type": "code",
      "metadata": {
        "id": "O8mr8b2kqJLQ",
        "colab_type": "code",
        "colab": {
          "base_uri": "https://localhost:8080/",
          "height": 34
        },
        "outputId": "813c5a12-476c-4228-d855-aea444c01794"
      },
      "source": [
        "ResNetGenerator(100, 3, 32)(torch.randn(10, 100)).shape"
      ],
      "execution_count": 56,
      "outputs": [
        {
          "output_type": "execute_result",
          "data": {
            "text/plain": [
              "torch.Size([10, 3, 32, 32])"
            ]
          },
          "metadata": {
            "tags": []
          },
          "execution_count": 56
        }
      ]
    },
    {
      "cell_type": "code",
      "metadata": {
        "id": "-0p9ygGmm28c",
        "colab_type": "code",
        "colab": {
          "base_uri": "https://localhost:8080/",
          "height": 1000
        },
        "outputId": "2ff74493-d7fc-4b91-bf86-7342569e51d4"
      },
      "source": [
        "summary(ResNetGenerator(100, 3, 32).to(device), (100,))"
      ],
      "execution_count": 93,
      "outputs": [
        {
          "output_type": "stream",
          "text": [
            "----------------------------------------------------------------\n",
            "        Layer (type)               Output Shape         Param #\n",
            "================================================================\n",
            "            Linear-1                 [-1, 4096]         413,696\n",
            "              ReLU-2                 [-1, 4096]               0\n",
            "       BatchNorm2d-3            [-1, 256, 4, 4]             512\n",
            "         LeakyReLU-4            [-1, 256, 4, 4]               0\n",
            "          Upsample-5            [-1, 256, 8, 8]               0\n",
            "            Conv2d-6            [-1, 256, 8, 8]         590,080\n",
            "            Conv2d-7            [-1, 256, 8, 8]               0\n",
            "       BatchNorm2d-8            [-1, 256, 8, 8]             512\n",
            "         LeakyReLU-9            [-1, 256, 8, 8]               0\n",
            "           Conv2d-10            [-1, 256, 8, 8]         590,080\n",
            "           Conv2d-11            [-1, 256, 8, 8]               0\n",
            "         Upsample-12            [-1, 256, 8, 8]               0\n",
            "           Conv2d-13            [-1, 256, 8, 8]          65,792\n",
            "           Conv2d-14            [-1, 256, 8, 8]               0\n",
            "       Residual_G-15            [-1, 256, 8, 8]               0\n",
            "      BatchNorm2d-16            [-1, 256, 8, 8]             512\n",
            "        LeakyReLU-17            [-1, 256, 8, 8]               0\n",
            "         Upsample-18          [-1, 256, 16, 16]               0\n",
            "           Conv2d-19          [-1, 256, 16, 16]         590,080\n",
            "           Conv2d-20          [-1, 256, 16, 16]               0\n",
            "      BatchNorm2d-21          [-1, 256, 16, 16]             512\n",
            "        LeakyReLU-22          [-1, 256, 16, 16]               0\n",
            "           Conv2d-23          [-1, 256, 16, 16]         590,080\n",
            "           Conv2d-24          [-1, 256, 16, 16]               0\n",
            "         Upsample-25          [-1, 256, 16, 16]               0\n",
            "           Conv2d-26          [-1, 256, 16, 16]          65,792\n",
            "           Conv2d-27          [-1, 256, 16, 16]               0\n",
            "       Residual_G-28          [-1, 256, 16, 16]               0\n",
            "      BatchNorm2d-29          [-1, 256, 16, 16]             512\n",
            "        LeakyReLU-30          [-1, 256, 16, 16]               0\n",
            "         Upsample-31          [-1, 256, 32, 32]               0\n",
            "           Conv2d-32          [-1, 256, 32, 32]         590,080\n",
            "           Conv2d-33          [-1, 256, 32, 32]               0\n",
            "      BatchNorm2d-34          [-1, 256, 32, 32]             512\n",
            "        LeakyReLU-35          [-1, 256, 32, 32]               0\n",
            "           Conv2d-36          [-1, 256, 32, 32]         590,080\n",
            "           Conv2d-37          [-1, 256, 32, 32]               0\n",
            "         Upsample-38          [-1, 256, 32, 32]               0\n",
            "           Conv2d-39          [-1, 256, 32, 32]          65,792\n",
            "           Conv2d-40          [-1, 256, 32, 32]               0\n",
            "       Residual_G-41          [-1, 256, 32, 32]               0\n",
            "      BatchNorm2d-42          [-1, 256, 32, 32]             512\n",
            "             ReLU-43          [-1, 256, 32, 32]               0\n",
            "  ConvTranspose2d-44            [-1, 3, 32, 32]           6,915\n",
            "  ConvTranspose2d-45            [-1, 3, 32, 32]               0\n",
            "             Tanh-46            [-1, 3, 32, 32]               0\n",
            "================================================================\n",
            "Total params: 4,162,051\n",
            "Trainable params: 4,162,051\n",
            "Non-trainable params: 0\n",
            "----------------------------------------------------------------\n",
            "Input size (MB): 0.00\n",
            "Forward/backward pass size (MB): 34.32\n",
            "Params size (MB): 15.88\n",
            "Estimated Total Size (MB): 50.20\n",
            "----------------------------------------------------------------\n"
          ],
          "name": "stdout"
        }
      ]
    },
    {
      "cell_type": "markdown",
      "metadata": {
        "id": "sRIljnTym2_V",
        "colab_type": "text"
      },
      "source": [
        "### Discriminator"
      ]
    },
    {
      "cell_type": "code",
      "metadata": {
        "id": "cT_YqgLem3CT",
        "colab_type": "code",
        "colab": {}
      },
      "source": [
        "class VanillaDiscriminator(nn.Module):\n",
        "\n",
        "    def __init__(self, nc, use_sn, num_rot, ssup):\n",
        "        super(VanillaDiscriminator, self).__init__()\n",
        "\n",
        "        self.num_rot = num_rot\n",
        "        self.ssup = ssup\n",
        "\n",
        "        self.activation = nn.LeakyReLU(0.2, inplace=True)\n",
        "        self.conv1 = Conv2d(nc, 64, kernel_size=3, stride=1, padding=1, use_sn=use_sn)\n",
        "        self.conv2 = Conv2d( 64, 128, padding=1, use_sn=use_sn)\n",
        "        self.conv3 = Conv2d(128, 256, padding=1, use_sn=use_sn)\n",
        "        self.conv4 = Conv2d(256, 512, padding=1, use_sn=use_sn)\n",
        "        self.linear_gan = nn.Linear(512*4, 1)\n",
        "        self.linear_rot = nn.Linear(512*4, 4)\n",
        "        self.softmax = nn.Softmax()\n",
        "        self.sigmoid = nn.Sigmoid()\n",
        "\n",
        "    def forward(self, inputs):\n",
        "        out = self.activation(self.conv1(inputs))\n",
        "        out = self.activation(self.conv2(out))\n",
        "        out = self.activation(self.conv3(out))\n",
        "        out = self.activation(self.conv4(out))\n",
        "        # out = F.adaptive_avg_pool2d(out, output_size=(1, 1)); print(out.shape)\n",
        "        flatten = out.view(out.size(0)*self.num_rot, -1)\n",
        "        gan_logits = self.linear_gan(flatten)\n",
        "        if self.ssup:\n",
        "            rot_logits = self.linear_rot(flatten)\n",
        "            rot_probs = self.softmax(rot_logits)\n",
        "            return self.sigmoid(gan_logits), gan_logits, rot_probs, rot_logits\n",
        "\n",
        "        return self.sigmoid(gan_logits), gan_logits"
      ],
      "execution_count": 0,
      "outputs": []
    },
    {
      "cell_type": "code",
      "metadata": {
        "id": "3OeW4sJdm3E2",
        "colab_type": "code",
        "colab": {
          "base_uri": "https://localhost:8080/",
          "height": 71
        },
        "outputId": "ed2f534d-98e7-4f0a-e22b-f533ff421b27"
      },
      "source": [
        "VanillaDiscriminator(3, True, 4, True)(torch.randn(10, 3, 32, 32))[0].shape"
      ],
      "execution_count": 90,
      "outputs": [
        {
          "output_type": "stream",
          "text": [
            "/usr/local/lib/python3.6/dist-packages/ipykernel_launcher.py:29: UserWarning: Implicit dimension choice for softmax has been deprecated. Change the call to include dim=X as an argument.\n"
          ],
          "name": "stderr"
        },
        {
          "output_type": "execute_result",
          "data": {
            "text/plain": [
              "torch.Size([40, 1])"
            ]
          },
          "metadata": {
            "tags": []
          },
          "execution_count": 90
        }
      ]
    },
    {
      "cell_type": "code",
      "metadata": {
        "id": "XVENRo6im3H6",
        "colab_type": "code",
        "colab": {
          "base_uri": "https://localhost:8080/",
          "height": 547
        },
        "outputId": "0877e74f-6202-4cff-ef95-d7954abe4b9d"
      },
      "source": [
        "summary(VanillaDiscriminator(3, True, 4, True).to(device), (3, 32, 32))"
      ],
      "execution_count": 91,
      "outputs": [
        {
          "output_type": "stream",
          "text": [
            "----------------------------------------------------------------\n",
            "        Layer (type)               Output Shape         Param #\n",
            "================================================================\n",
            "            Conv2d-1           [-1, 64, 32, 32]           1,792\n",
            "            Conv2d-2           [-1, 64, 32, 32]               0\n",
            "         LeakyReLU-3           [-1, 64, 32, 32]               0\n",
            "            Conv2d-4          [-1, 128, 16, 16]         131,200\n",
            "            Conv2d-5          [-1, 128, 16, 16]               0\n",
            "         LeakyReLU-6          [-1, 128, 16, 16]               0\n",
            "            Conv2d-7            [-1, 256, 8, 8]         524,544\n",
            "            Conv2d-8            [-1, 256, 8, 8]               0\n",
            "         LeakyReLU-9            [-1, 256, 8, 8]               0\n",
            "           Conv2d-10            [-1, 512, 4, 4]       2,097,664\n",
            "           Conv2d-11            [-1, 512, 4, 4]               0\n",
            "        LeakyReLU-12            [-1, 512, 4, 4]               0\n",
            "           Linear-13                    [-1, 1]           2,049\n",
            "           Linear-14                    [-1, 4]           8,196\n",
            "          Softmax-15                    [-1, 4]               0\n",
            "          Sigmoid-16                    [-1, 1]               0\n",
            "================================================================\n",
            "Total params: 2,765,445\n",
            "Trainable params: 2,765,445\n",
            "Non-trainable params: 0\n",
            "----------------------------------------------------------------\n",
            "Input size (MB): 0.01\n",
            "Forward/backward pass size (MB): 2.81\n",
            "Params size (MB): 10.55\n",
            "Estimated Total Size (MB): 13.37\n",
            "----------------------------------------------------------------\n"
          ],
          "name": "stdout"
        },
        {
          "output_type": "stream",
          "text": [
            "/usr/local/lib/python3.6/dist-packages/ipykernel_launcher.py:29: UserWarning: Implicit dimension choice for softmax has been deprecated. Change the call to include dim=X as an argument.\n"
          ],
          "name": "stderr"
        }
      ]
    },
    {
      "cell_type": "code",
      "metadata": {
        "id": "OqF83WEazhZx",
        "colab_type": "code",
        "colab": {}
      },
      "source": [
        "class ResNetDiscriminator(nn.Module):\n",
        "\n",
        "    def __init__(self, nc, use_sn, num_rot, ssup):\n",
        "        super(ResNetDiscriminator, self).__init__()\n",
        "\n",
        "        self.num_rot = num_rot\n",
        "        self.ssup = ssup\n",
        "\n",
        "        self.activation = nn.LeakyReLU(0.2, inplace=True)\n",
        "        self.block1 = Residual_D( nc, 256, use_sn=use_sn, is_down=True, is_start=True)\n",
        "        self.block2 = Residual_D(256, 256, use_sn=use_sn, is_down=True)\n",
        "        self.block3 = Residual_D(256, 256, use_sn=use_sn)\n",
        "        self.block4 = Residual_D(256, 256, use_sn=use_sn)\n",
        "        self.linear_gan = nn.Linear(256, 1)\n",
        "        self.linear_rot = nn.Linear(256, 4)\n",
        "        self.softmax = nn.Softmax()\n",
        "        self.sigmoid = nn.Sigmoid()\n",
        "\n",
        "    def forward(self, inputs):\n",
        "        out = self.block1(inputs)\n",
        "        out = self.block2(out)\n",
        "        out = self.block3(out)\n",
        "        out = self.activation(self.block4(out))\n",
        "        flatten = out.view(out.size(0)*self.num_rot, -1)\n",
        "        gan_logits = self.linear_gan(flatten)\n",
        "        if self.ssup:\n",
        "            rot_logits = self.linear_rot(flatten)\n",
        "            rot_probs = self.softmax(rot_logits)\n",
        "            return self.sigmoid(gan_logits), gan_logits, rot_probs, rot_logits\n",
        "\n",
        "        return self.sigmoid(gan_logits), gan_logits"
      ],
      "execution_count": 0,
      "outputs": []
    },
    {
      "cell_type": "code",
      "metadata": {
        "id": "EcKUemHUzhWT",
        "colab_type": "code",
        "colab": {
          "base_uri": "https://localhost:8080/",
          "height": 71
        },
        "outputId": "b7540fce-5ee9-4e27-c39e-a707f0b74f60"
      },
      "source": [
        "ResNetDiscriminator(3, True, 4, True)(torch.randn(10, 3, 32, 32))[0].shape"
      ],
      "execution_count": 111,
      "outputs": [
        {
          "output_type": "stream",
          "text": [
            "/usr/local/lib/python3.6/dist-packages/ipykernel_launcher.py:28: UserWarning: Implicit dimension choice for softmax has been deprecated. Change the call to include dim=X as an argument.\n"
          ],
          "name": "stderr"
        },
        {
          "output_type": "execute_result",
          "data": {
            "text/plain": [
              "torch.Size([40, 1])"
            ]
          },
          "metadata": {
            "tags": []
          },
          "execution_count": 111
        }
      ]
    },
    {
      "cell_type": "code",
      "metadata": {
        "id": "joIE10ASzhTE",
        "colab_type": "code",
        "colab": {
          "base_uri": "https://localhost:8080/",
          "height": 1000
        },
        "outputId": "adf6666a-e517-470b-bc3b-44a23a73ba54"
      },
      "source": [
        "summary(ResNetDiscriminator(3, True, 4, True).to(device), (3, 32, 32))"
      ],
      "execution_count": 112,
      "outputs": [
        {
          "output_type": "stream",
          "text": [
            "----------------------------------------------------------------\n",
            "        Layer (type)               Output Shape         Param #\n",
            "================================================================\n",
            "            Conv2d-1          [-1, 256, 32, 32]           7,168\n",
            "            Conv2d-2          [-1, 256, 32, 32]               0\n",
            "         LeakyReLU-3          [-1, 256, 32, 32]               0\n",
            "            Conv2d-4          [-1, 256, 32, 32]         590,080\n",
            "            Conv2d-5          [-1, 256, 32, 32]               0\n",
            "         LeakyReLU-6          [-1, 256, 32, 32]               0\n",
            "         AvgPool2d-7          [-1, 256, 16, 16]               0\n",
            "         AvgPool2d-8            [-1, 3, 16, 16]               0\n",
            "            Conv2d-9          [-1, 256, 16, 16]           1,024\n",
            "           Conv2d-10          [-1, 256, 16, 16]               0\n",
            "       Residual_D-11          [-1, 256, 16, 16]               0\n",
            "        LeakyReLU-12          [-1, 256, 16, 16]               0\n",
            "           Conv2d-13          [-1, 256, 16, 16]         590,080\n",
            "           Conv2d-14          [-1, 256, 16, 16]               0\n",
            "        LeakyReLU-15          [-1, 256, 16, 16]               0\n",
            "           Conv2d-16          [-1, 256, 16, 16]         590,080\n",
            "           Conv2d-17          [-1, 256, 16, 16]               0\n",
            "        AvgPool2d-18            [-1, 256, 8, 8]               0\n",
            "        AvgPool2d-19            [-1, 256, 8, 8]               0\n",
            "           Conv2d-20            [-1, 256, 8, 8]          65,792\n",
            "           Conv2d-21            [-1, 256, 8, 8]               0\n",
            "       Residual_D-22            [-1, 256, 8, 8]               0\n",
            "        LeakyReLU-23            [-1, 256, 8, 8]               0\n",
            "           Conv2d-24            [-1, 256, 8, 8]         590,080\n",
            "           Conv2d-25            [-1, 256, 8, 8]               0\n",
            "        LeakyReLU-26            [-1, 256, 8, 8]               0\n",
            "           Conv2d-27            [-1, 256, 8, 8]         590,080\n",
            "           Conv2d-28            [-1, 256, 8, 8]               0\n",
            "        AvgPool2d-29            [-1, 256, 4, 4]               0\n",
            "        AvgPool2d-30            [-1, 256, 4, 4]               0\n",
            "           Conv2d-31            [-1, 256, 4, 4]          65,792\n",
            "           Conv2d-32            [-1, 256, 4, 4]               0\n",
            "       Residual_D-33            [-1, 256, 4, 4]               0\n",
            "        LeakyReLU-34            [-1, 256, 4, 4]               0\n",
            "           Conv2d-35            [-1, 256, 4, 4]         590,080\n",
            "           Conv2d-36            [-1, 256, 4, 4]               0\n",
            "        LeakyReLU-37            [-1, 256, 4, 4]               0\n",
            "           Conv2d-38            [-1, 256, 4, 4]         590,080\n",
            "           Conv2d-39            [-1, 256, 4, 4]               0\n",
            "        AvgPool2d-40            [-1, 256, 2, 2]               0\n",
            "        AvgPool2d-41            [-1, 256, 2, 2]               0\n",
            "           Conv2d-42            [-1, 256, 2, 2]          65,792\n",
            "           Conv2d-43            [-1, 256, 2, 2]               0\n",
            "       Residual_D-44            [-1, 256, 2, 2]               0\n",
            "        LeakyReLU-45            [-1, 256, 2, 2]               0\n",
            "           Linear-46                    [-1, 1]             257\n",
            "           Linear-47                    [-1, 4]           1,028\n",
            "          Softmax-48                    [-1, 4]               0\n",
            "          Sigmoid-49                    [-1, 1]               0\n",
            "================================================================\n",
            "Total params: 4,337,413\n",
            "Trainable params: 4,337,413\n",
            "Non-trainable params: 0\n",
            "----------------------------------------------------------------\n",
            "Input size (MB): 0.01\n",
            "Forward/backward pass size (MB): 18.77\n",
            "Params size (MB): 16.55\n",
            "Estimated Total Size (MB): 35.33\n",
            "----------------------------------------------------------------\n"
          ],
          "name": "stdout"
        },
        {
          "output_type": "stream",
          "text": [
            "/usr/local/lib/python3.6/dist-packages/ipykernel_launcher.py:28: UserWarning: Implicit dimension choice for softmax has been deprecated. Change the call to include dim=X as an argument.\n"
          ],
          "name": "stderr"
        }
      ]
    },
    {
      "cell_type": "markdown",
      "metadata": {
        "id": "5sSLdgSi1p1V",
        "colab_type": "text"
      },
      "source": [
        "## Prepare Model"
      ]
    },
    {
      "cell_type": "code",
      "metadata": {
        "id": "sKuGpwwq3IoT",
        "colab_type": "code",
        "colab": {}
      },
      "source": [
        "import torch.optim as optim"
      ],
      "execution_count": 0,
      "outputs": []
    },
    {
      "cell_type": "code",
      "metadata": {
        "id": "rTO6BaQE1ppx",
        "colab_type": "code",
        "colab": {}
      },
      "source": [
        "netG = VanillaGenerator(cfg.nz, cfg.nc, cfg.image_size).to(device)\n",
        "netD = VanillaDiscriminator(cfg.nc, cfg.use_sn, cfg.num_rot, cfg.ssup).to(device)\n",
        "\n",
        "optimizerG = optim.Adam(netG.parameters(), lr=cfg.lrG, betas=cfg.betas)\n",
        "optimizerD = optim.Adam(netD.parameters(), lr=cfg.lrD, betas=cfg.betas)"
      ],
      "execution_count": 0,
      "outputs": []
    },
    {
      "cell_type": "markdown",
      "metadata": {
        "id": "00PDcyUXzhQJ",
        "colab_type": "text"
      },
      "source": [
        "## Train"
      ]
    },
    {
      "cell_type": "code",
      "metadata": {
        "id": "WL63nW9szhMb",
        "colab_type": "code",
        "colab": {}
      },
      "source": [
        "def critic_train_iteration(netD, optimD, data, generated_data, cfg):\n",
        "    data = data.to(device)\n",
        "    _, d_real_pro_logits, d_real_rot_probs, d_real_rot_logist = netD(data)\n",
        "    _, d_real_pro_logits, d_real_rot_probs, d_real_rot_logist = netD(generated_data)\n",
        "\n",
        "    optimD.zero_grad()\n",
        "    d_loss = torch.sum(g_fake_pro_logits) - torch.sum(d_real_pro_logits)\n",
        "\n",
        "    # Add auxiiary rotation loss\n",
        "    rot_labels = torch.zeros(4*cfg.batch_size).to(device=data.device)\n",
        "    for i in range(4*bcfg.atch_size):\n",
        "        if i < cfg.batch_size:\n",
        "            rot_labels[i] = 0\n",
        "        elif i < 2*cfg.batch_size:\n",
        "            rot_labels[i] = 1\n",
        "        elif i < 3*cfg.batch_size:\n",
        "            rot_labels[i] = 2\n",
        "        else:\n",
        "            rot_labels[i] = 3\n",
        "\n",
        "    rot_labels = F.one_hot(rot_labels.to(torch.int64), 4).float()\n",
        "    d_real_class_loss = torch.sum(F.binary_cross_entropy_with_logits(\n",
        "                                  input = d_real_rot_logits,\n",
        "                                  target = rot_labels))\n",
        "\n",
        "    d_loss += cfg.weight_rot_d * d_real_class_loss\n",
        "    d_loss.backward(retain_graph=True)\n",
        "\n",
        "    netD.step()"
      ],
      "execution_count": 0,
      "outputs": []
    },
    {
      "cell_type": "code",
      "metadata": {
        "id": "Ve6aHR6fzhJJ",
        "colab_type": "code",
        "colab": {}
      },
      "source": [
        "def _generator_train_iteration(netG, netD, optimG, generated_data, cfg):\n",
        "    \n",
        "    optimG.zero_grad()\n",
        "\n",
        "    # Calculate loss and optimize\n",
        "    _, g_fake_pro_logits, g_fake_rot_prob, g_fake_rot_logits = netD(generated_data)\n",
        "    g_loss = - torch.sum(g_fake_pro_logits)\n",
        "\n",
        "    # add auxiliary rotation loss\n",
        "    rot_labels = torch.zeros(4*cfg.batch_size,).to(device=generated_data.device)\n",
        "    for i in range(4*cfg.batch_size):\n",
        "        if i < cfg.batch_size:\n",
        "            rot_labels[i] = 0\n",
        "        elif i < 2*cfg.batch_size:\n",
        "            rot_labels[i] = 1\n",
        "        elif i < 3*cfg.batch_size:\n",
        "            rot_labels[i] = 2\n",
        "        else:\n",
        "            rot_labels[i] = 3\n",
        "    \n",
        "    rot_labels = F.one_hot(rot_labels.to(torch.int64), 4).float()\n",
        "    g_fake_class_loss = torch.sum(F.binary_cross_entropy_with_logits(\n",
        "        input = g_fake_rot_logits, \n",
        "        target = rot_labels))\n",
        "    \n",
        "    g_loss += cfg.weight_rot_g * g_fake_class_loss\n",
        "    g_loss.backward(retain_graph=True)\n",
        "    optimG.step()\n"
      ],
      "execution_count": 0,
      "outputs": []
    },
    {
      "cell_type": "code",
      "metadata": {
        "id": "fqv9ZKo76EhV",
        "colab_type": "code",
        "colab": {}
      },
      "source": [
        "def sample_generator(netG, num_samples, cfg):\n",
        "    latent_samples = netG.sample_latent(num_samples)\n",
        "    if cfg.use_cuda:\n",
        "        latent_samples = latent_samples.cuda()\n",
        "    generated_data = self.G(latent_samples)\n",
        "    return generated_data\n",
        "\n",
        "\n",
        "def sample(self, num_samples):\n",
        "    generated_data = sample_generator(num_samples)\n",
        "    # Remove color channel\n",
        "    return generated_data.data.cpu().numpy()[:, 0, :, :]"
      ],
      "execution_count": 0,
      "outputs": []
    },
    {
      "cell_type": "code",
      "metadata": {
        "id": "CPmEMM-E57kR",
        "colab_type": "code",
        "colab": {}
      },
      "source": [
        "def _train_epoch(data_loader, device):\n",
        "    for i, data in enumerate(data_loader):\n",
        "        # Get generated data\n",
        "        data = data[0]\n",
        "        batch_size = data.size()[0]\n",
        "        generated_data = self.sample_generator(batch_size)\n",
        "        \n",
        "        x = generated_data\n",
        "        x_90 = x.transpose(2,3)\n",
        "        x_180 = x.flip(2,3)\n",
        "        x_270 = x.transpose(2,3).flip(2,3)\n",
        "        generated_data = torch.cat((x, x_90, x_180, x_270),0)\n",
        "\n",
        "        x = data\n",
        "        x_90 = x.transpose(2,3)\n",
        "        x_180 = x.flip(2,3)\n",
        "        x_270 = x.transpose(2,3).flip(2,3)\n",
        "        data = torch.cat((x,x_90,x_180,x_270),0)\n",
        "\n",
        "        self.num_steps += 1\n",
        "        self._critic_train_iteration(data, generated_data, batch_size)\n",
        "        # Only update generator every |critic_iterations| iterations\n",
        "        if self.num_steps % self.critic_iterations == 0:\n",
        "            self._generator_train_iteration(generated_data, batch_size)\n",
        "\n",
        "        if i % self.print_every == 0:\n",
        "            print(\"Iteration {}\".format(i + 1))\n",
        "            print(\"D: {}\".format(self.losses['D'][-1]))\n",
        "            print(\"GP: {}\".format(self.losses['GP'][-1]))\n",
        "            print(\"Gradient norm: {}\".format(self.losses['gradient_norm'][-1]))\n",
        "            if self.num_steps > self.critic_iterations:\n",
        "                print(\"G: {}\".format(self.losses['G'][-1]))"
      ],
      "execution_count": 0,
      "outputs": []
    },
    {
      "cell_type": "code",
      "metadata": {
        "id": "zDTkFk8N57hr",
        "colab_type": "code",
        "colab": {}
      },
      "source": [
        ""
      ],
      "execution_count": 0,
      "outputs": []
    },
    {
      "cell_type": "code",
      "metadata": {
        "id": "GOeTUPww57fG",
        "colab_type": "code",
        "colab": {}
      },
      "source": [
        ""
      ],
      "execution_count": 0,
      "outputs": []
    },
    {
      "cell_type": "code",
      "metadata": {
        "id": "SxLkbUm957cN",
        "colab_type": "code",
        "colab": {}
      },
      "source": [
        ""
      ],
      "execution_count": 0,
      "outputs": []
    },
    {
      "cell_type": "code",
      "metadata": {
        "id": "uWUHTMBlm3KS",
        "colab_type": "code",
        "colab": {}
      },
      "source": [
        ""
      ],
      "execution_count": 0,
      "outputs": []
    }
  ]
}