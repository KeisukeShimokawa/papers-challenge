{
  "nbformat": 4,
  "nbformat_minor": 0,
  "metadata": {
    "colab": {
      "name": "UNet model forward.ipynb",
      "provenance": [],
      "collapsed_sections": [],
      "authorship_tag": "ABX9TyNY2P1948MXkHDncZxJkHGl",
      "include_colab_link": true
    },
    "kernelspec": {
      "name": "python3",
      "display_name": "Python 3"
    }
  },
  "cells": [
    {
      "cell_type": "markdown",
      "metadata": {
        "id": "view-in-github",
        "colab_type": "text"
      },
      "source": [
        "<a href=\"https://colab.research.google.com/github/KeisukeShimokawa/papers-challenge/blob/master/src/cv/UNet/notebooks/UNet_model_forward.ipynb\" target=\"_parent\"><img src=\"https://colab.research.google.com/assets/colab-badge.svg\" alt=\"Open In Colab\"/></a>"
      ]
    },
    {
      "cell_type": "code",
      "metadata": {
        "id": "3dIIz8NSow9n",
        "colab_type": "code",
        "colab": {}
      },
      "source": [
        "import torch\n",
        "import torch.nn as nn"
      ],
      "execution_count": 1,
      "outputs": []
    },
    {
      "cell_type": "code",
      "metadata": {
        "id": "coNz2dmOpiMn",
        "colab_type": "code",
        "colab": {}
      },
      "source": [
        "def double_conv(in_c, out_c):\n",
        "    conv = nn.Sequential(\n",
        "        nn.Conv2d(in_c, out_c, kernel_size=3, stride=1, padding=0),\n",
        "        nn.ReLU(inplace=True),\n",
        "        nn.Conv2d(out_c, out_c, kernel_size=3, stride=1, padding=0),\n",
        "        nn.ReLU(inplace=True)\n",
        "    )\n",
        "    return conv"
      ],
      "execution_count": 2,
      "outputs": []
    },
    {
      "cell_type": "code",
      "metadata": {
        "id": "RNQWQG2quVv0",
        "colab_type": "code",
        "colab": {}
      },
      "source": [
        "def crop_img(tensor, target_tensor):\n",
        "    target_size = target_tensor.shape[2]\n",
        "    tensor_size = tensor.shape[2]\n",
        "\n",
        "    delta = tensor_size - target_size\n",
        "    delta = delta // 2\n",
        "\n",
        "    return tensor[:, :, delta:tensor_size-delta, delta:tensor_size-delta]"
      ],
      "execution_count": 13,
      "outputs": []
    },
    {
      "cell_type": "code",
      "metadata": {
        "id": "wyNYASjqo1k7",
        "colab_type": "code",
        "colab": {}
      },
      "source": [
        "class UNet(nn.Module):\n",
        "\n",
        "    def __init__(self):\n",
        "        super(UNet, self).__init__()\n",
        "\n",
        "        self.max_pool_2x2 = nn.MaxPool2d(kernel_size=2, stride=(2, 2))\n",
        "        self.down_conv1 = double_conv(  1,   64)\n",
        "        self.down_conv2 = double_conv( 64,  128)\n",
        "        self.down_conv3 = double_conv(128,  256)\n",
        "        self.down_conv4 = double_conv(256,  512)\n",
        "        self.down_conv5 = double_conv(512, 1024)\n",
        "\n",
        "        self.up_trans_1 = nn.ConvTranspose2d(1024, 512, kernel_size=2, stride=2)\n",
        "        self.up_conv_1 = double_conv(1024, 512)\n",
        "        self.up_trans_2 = nn.ConvTranspose2d(512, 256, kernel_size=2, stride=2)\n",
        "        self.up_conv_2 = double_conv(512, 256)\n",
        "        self.up_trans_3 = nn.ConvTranspose2d(256, 128, kernel_size=2, stride=2)\n",
        "        self.up_conv_3 = double_conv(256, 128)\n",
        "        self.up_trans_4 = nn.ConvTranspose2d(128, 64, kernel_size=2, stride=2)\n",
        "        self.up_conv_4 = double_conv(128, 64)\n",
        "\n",
        "        self.out = nn.Conv2d(64, 1, kernel_size=1)\n",
        "\n",
        "    def forward(self, image):\n",
        "        # bs, c, h, w\n",
        "        # encoder\n",
        "        x1 = self.down_conv1(image) # \n",
        "        # print(x1.shape)\n",
        "        x2 = self.max_pool_2x2(x1)\n",
        "        x3 = self.down_conv2(x2)    # \n",
        "        x4 = self.max_pool_2x2(x3)\n",
        "        x5 = self.down_conv3(x4)    # \n",
        "        x6 = self.max_pool_2x2(x5)\n",
        "        x7 = self.down_conv4(x6)    # \n",
        "        x8 = self.max_pool_2x2(x7)\n",
        "        x9 = self.down_conv5(x8)\n",
        "        # print(x9.shape)\n",
        "\n",
        "        # decoder\n",
        "        x = self.up_trans_1(x9)\n",
        "        y = crop_img(x7, x)\n",
        "        x = self.up_conv_1(torch.cat([x, y], dim=1))\n",
        "\n",
        "        x = self.up_trans_2(x)\n",
        "        y = crop_img(x5, x)\n",
        "        x = self.up_conv_2(torch.cat([x, y], dim=1))\n",
        "\n",
        "        x = self.up_trans_3(x)\n",
        "        y = crop_img(x3, x)\n",
        "        x = self.up_conv_3(torch.cat([x, y], dim=1))\n",
        "\n",
        "        x = self.up_trans_4(x)\n",
        "        y = crop_img(x1, x)\n",
        "        x = self.up_conv_4(torch.cat([x, y], dim=1))\n",
        "\n",
        "        x = self.out(x)\n",
        "        print(x.shape)"
      ],
      "execution_count": 30,
      "outputs": []
    },
    {
      "cell_type": "code",
      "metadata": {
        "id": "G7BooLTCrkES",
        "colab_type": "code",
        "colab": {
          "base_uri": "https://localhost:8080/",
          "height": 51
        },
        "outputId": "667b81b2-172f-4a24-d9b2-ff02c8f796ad"
      },
      "source": [
        "image = torch.rand((1, 1, 572, 572))\n",
        "model = UNet()\n",
        "print(model(image))"
      ],
      "execution_count": 31,
      "outputs": [
        {
          "output_type": "stream",
          "text": [
            "torch.Size([1, 1, 388, 388])\n",
            "None\n"
          ],
          "name": "stdout"
        }
      ]
    },
    {
      "cell_type": "code",
      "metadata": {
        "id": "89Hc8WAhr8_R",
        "colab_type": "code",
        "colab": {}
      },
      "source": [
        ""
      ],
      "execution_count": null,
      "outputs": []
    }
  ]
}