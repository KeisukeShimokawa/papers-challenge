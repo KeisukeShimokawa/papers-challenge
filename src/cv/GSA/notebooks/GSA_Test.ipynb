{
  "nbformat": 4,
  "nbformat_minor": 0,
  "metadata": {
    "colab": {
      "name": "GSA Test",
      "provenance": [],
      "collapsed_sections": [],
      "include_colab_link": true
    },
    "kernelspec": {
      "display_name": "Python 3",
      "name": "python3"
    },
    "accelerator": "GPU"
  },
  "cells": [
    {
      "cell_type": "markdown",
      "metadata": {
        "id": "view-in-github",
        "colab_type": "text"
      },
      "source": [
        "<a href=\"https://colab.research.google.com/github/KeisukeShimokawa/papers-challenge/blob/master/src/cv/GSA/notebooks/GSA_Test.ipynb\" target=\"_parent\"><img src=\"https://colab.research.google.com/assets/colab-badge.svg\" alt=\"Open In Colab\"/></a>"
      ]
    },
    {
      "cell_type": "code",
      "metadata": {
        "id": "lIYdn1woOS1n",
        "outputId": "43d82f98-5184-4e55-bc72-d831c480676e",
        "colab": {
          "base_uri": "https://localhost:8080/",
          "height": 53
        }
      },
      "source": [
        "import torch\n",
        "import torch.nn as nn\n",
        "import torch.nn.functional as F\n",
        "\n",
        "print(torch.__version__)\n",
        "print(torch.cuda.is_available())"
      ],
      "execution_count": 1,
      "outputs": [
        {
          "output_type": "stream",
          "text": [
            "1.6.0+cu101\n",
            "True\n"
          ],
          "name": "stdout"
        }
      ]
    },
    {
      "cell_type": "code",
      "metadata": {
        "id": "xzkm5wA6dYKE",
        "outputId": "11c02ab2-4ee6-46fc-a663-e1852f967572",
        "colab": {
          "base_uri": "https://localhost:8080/",
          "height": 35
        }
      },
      "source": [
        "# input feature map\n",
        "B, C, H, W = 10, 32, 128, 128\n",
        "inputs = torch.randn(B, C, H, W)\n",
        "\n",
        "print(inputs.shape)"
      ],
      "execution_count": 2,
      "outputs": [
        {
          "output_type": "stream",
          "text": [
            "torch.Size([10, 32, 128, 128])\n"
          ],
          "name": "stdout"
        }
      ]
    },
    {
      "cell_type": "code",
      "metadata": {
        "id": "FQA7Nwzre-gQ",
        "outputId": "7a513405-318a-4697-d536-e12ebf99bb8b",
        "colab": {
          "base_uri": "https://localhost:8080/",
          "height": 215
        }
      },
      "source": [
        "# positional embedding\n",
        "relative = nn.Parameter(torch.randn(32, W * 2 - 1))\n",
        "\n",
        "print(relative.shape)\n",
        "\n",
        "query_index = torch.arange(W).unsqueeze(0)\n",
        "key_index = torch.arange(W).unsqueeze(1)\n",
        "\n",
        "print(query_index.shape, key_index.shape)\n",
        "\n",
        "relative_index = key_index - query_index + W - 1\n",
        "\n",
        "print(relative_index)\n",
        "print(relative_index.view(-1))\n",
        "\n",
        "torch.index_select(relative, 1, relative_index.view(-1)).shape"
      ],
      "execution_count": 14,
      "outputs": [
        {
          "output_type": "stream",
          "text": [
            "torch.Size([32, 255])\n",
            "torch.Size([1, 128]) torch.Size([128, 1])\n",
            "tensor([[127, 126, 125,  ...,   2,   1,   0],\n",
            "        [128, 127, 126,  ...,   3,   2,   1],\n",
            "        [129, 128, 127,  ...,   4,   3,   2],\n",
            "        ...,\n",
            "        [252, 251, 250,  ..., 127, 126, 125],\n",
            "        [253, 252, 251,  ..., 128, 127, 126],\n",
            "        [254, 253, 252,  ..., 129, 128, 127]])\n",
            "tensor([127, 126, 125,  ..., 129, 128, 127])\n"
          ],
          "name": "stdout"
        },
        {
          "output_type": "execute_result",
          "data": {
            "text/plain": [
              "torch.Size([32, 16384])"
            ]
          },
          "metadata": {
            "tags": []
          },
          "execution_count": 14
        }
      ]
    },
    {
      "cell_type": "code",
      "metadata": {
        "id": "YESLsCfZidyp",
        "outputId": "a306cc60-963a-4db7-9b70-c5f56fb6e453",
        "colab": {
          "base_uri": "https://localhost:8080/",
          "height": 35
        }
      },
      "source": [
        "128**2"
      ],
      "execution_count": 15,
      "outputs": [
        {
          "output_type": "execute_result",
          "data": {
            "text/plain": [
              "16384"
            ]
          },
          "metadata": {
            "tags": []
          },
          "execution_count": 15
        }
      ]
    },
    {
      "cell_type": "markdown",
      "metadata": {
        "id": "3X-JPDk4d7-D"
      },
      "source": [
        "axialnet-based module"
      ]
    },
    {
      "cell_type": "code",
      "metadata": {
        "id": "43RA0GtEdyZE"
      },
      "source": [
        "# column-only\n"
      ],
      "execution_count": null,
      "outputs": []
    }
  ]
}