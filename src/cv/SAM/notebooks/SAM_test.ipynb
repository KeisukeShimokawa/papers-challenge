{
  "nbformat": 4,
  "nbformat_minor": 0,
  "metadata": {
    "colab": {
      "name": "SAM test.ipynb",
      "provenance": [],
      "collapsed_sections": [],
      "authorship_tag": "ABX9TyNRitfTtUWySAOPAeUVI7N9",
      "include_colab_link": true
    },
    "kernelspec": {
      "name": "python3",
      "display_name": "Python 3"
    }
  },
  "cells": [
    {
      "cell_type": "markdown",
      "metadata": {
        "id": "view-in-github",
        "colab_type": "text"
      },
      "source": [
        "<a href=\"https://colab.research.google.com/github/KeisukeShimokawa/papers-challenge/blob/master/src/cv/SAM/notebooks/SAM_test.ipynb\" target=\"_parent\"><img src=\"https://colab.research.google.com/assets/colab-badge.svg\" alt=\"Open In Colab\"/></a>"
      ]
    },
    {
      "cell_type": "code",
      "metadata": {
        "id": "Z9Xxjw0aisRR",
        "colab_type": "code",
        "colab": {}
      },
      "source": [
        "import torch\n",
        "import torch.nn as nn\n",
        "import torch.nn.functional as F"
      ],
      "execution_count": 0,
      "outputs": []
    },
    {
      "cell_type": "code",
      "metadata": {
        "id": "Gny-uTDWiwou",
        "colab_type": "code",
        "colab": {
          "base_uri": "https://localhost:8080/",
          "height": 34
        },
        "outputId": "54ce8fba-ec9d-485a-84ac-2babef4147d9"
      },
      "source": [
        "inputs = torch.randn(10, 64, 16, 16)\n",
        "\n",
        "print(\"input feature map: \", inputs.shape)"
      ],
      "execution_count": 2,
      "outputs": [
        {
          "output_type": "stream",
          "text": [
            "input feature map:  torch.Size([10, 64, 16, 16])\n"
          ],
          "name": "stdout"
        }
      ]
    },
    {
      "cell_type": "code",
      "metadata": {
        "id": "yKPhOSlbi5bb",
        "colab_type": "code",
        "colab": {
          "base_uri": "https://localhost:8080/",
          "height": 34
        },
        "outputId": "f78739f3-c24b-4003-a19f-65fc5f06d02a"
      },
      "source": [
        "in_planes  = inputs.shape[1]\n",
        "rel_planes = in_planes // 16\n",
        "out_planes = in_planes // 4\n",
        "print(in_planes, rel_planes, out_planes)\n",
        "\n",
        "share_planes = 8\n",
        "kernel_size = 7\n",
        "stride = 1\n",
        "dilation = 1"
      ],
      "execution_count": 5,
      "outputs": [
        {
          "output_type": "stream",
          "text": [
            "64 4 16\n"
          ],
          "name": "stdout"
        }
      ]
    },
    {
      "cell_type": "code",
      "metadata": {
        "id": "EAzxGymNjxj7",
        "colab_type": "code",
        "colab": {
          "base_uri": "https://localhost:8080/",
          "height": 68
        },
        "outputId": "bd2fa124-e2c7-4d03-ed60-3294897fc99e"
      },
      "source": [
        "# step1\n",
        "conv1 = nn.Conv2d(in_planes, rel_planes, kernel_size=1)\n",
        "conv2 = nn.Conv2d(in_planes, rel_planes, kernel_size=1)\n",
        "conv3 = nn.Conv2d(in_planes, out_planes, kernel_size=1)\n",
        "\n",
        "x1, x2, x3 = conv1(inputs), conv2(inputs), conv3(inputs)\n",
        "\n",
        "print(f\"x1: {x1.shape}\")\n",
        "print(f\"x2: {x2.shape}\")\n",
        "print(f\"x3: {x3.shape}\")"
      ],
      "execution_count": 6,
      "outputs": [
        {
          "output_type": "stream",
          "text": [
            "x1: torch.Size([10, 4, 16, 16])\n",
            "x2: torch.Size([10, 4, 16, 16])\n",
            "x3: torch.Size([10, 16, 16, 16])\n"
          ],
          "name": "stdout"
        }
      ]
    },
    {
      "cell_type": "code",
      "metadata": {
        "id": "7BdhJCKckM_g",
        "colab_type": "code",
        "colab": {
          "base_uri": "https://localhost:8080/",
          "height": 34
        },
        "outputId": "7e133f9c-40d3-412e-c9ce-0898b682372b"
      },
      "source": [
        "x1_reshape = x1.view(x1.shape[0], -1, 1, x1.shape[2] * x1.shape[3])\n",
        "\n",
        "print(f\"x1 reshape: {x1_reshape.shape}\")"
      ],
      "execution_count": 15,
      "outputs": [
        {
          "output_type": "stream",
          "text": [
            "x1 reshape: torch.Size([10, 4, 1, 256])\n"
          ],
          "name": "stdout"
        }
      ]
    },
    {
      "cell_type": "markdown",
      "metadata": {
        "id": "OQIPzpymlzKe",
        "colab_type": "text"
      },
      "source": [
        "pytorchのUnfold関数の出力値\n",
        "\n",
        "$$\n",
        "(N, C \\times \\Pi(\\text { kernel_size }), L)\n",
        "$$\n",
        "\n",
        "この$L$とは以下の計算に従う。なお$d$は空間方向の次元数である。\n",
        "\n",
        "$$\n",
        "L=\\prod_{d}\\left[\\frac{\\text { spatial }_{-} \\operatorname{size}[d]+2 \\times \\operatorname{padding}[d]-\\operatorname{dilation}[d] \\times\\left(\\operatorname{kernel}_{-} \\operatorname{size}[d]-1\\right)-1}{\\operatorname{stride}[d]}+1\\right]\n",
        "$$"
      ]
    },
    {
      "cell_type": "code",
      "metadata": {
        "id": "pfF1CyjGmaqM",
        "colab_type": "code",
        "colab": {
          "base_uri": "https://localhost:8080/",
          "height": 34
        },
        "outputId": "f78bf15a-c19c-4e7c-e6bf-b0fa238accc7"
      },
      "source": [
        "# paddingしたサイズと、Kernel_size-1のサイズが等しくなるので\n",
        "# 単純に入力された空間次元数をかけ合わせたものになる。(16x15=256)\n",
        "(((16+3*2) + 2 * 0 - (kernel_size - 1) - 1) + 1) ** 2"
      ],
      "execution_count": 18,
      "outputs": [
        {
          "output_type": "execute_result",
          "data": {
            "text/plain": [
              "256"
            ]
          },
          "metadata": {
            "tags": []
          },
          "execution_count": 18
        }
      ]
    },
    {
      "cell_type": "code",
      "metadata": {
        "id": "ACZX83i3mziY",
        "colab_type": "code",
        "colab": {
          "base_uri": "https://localhost:8080/",
          "height": 34
        },
        "outputId": "70fdad1a-8d01-41c8-87ee-8e0e1282fd44"
      },
      "source": [
        "4 * kernel_size ** 2"
      ],
      "execution_count": 14,
      "outputs": [
        {
          "output_type": "execute_result",
          "data": {
            "text/plain": [
              "196"
            ]
          },
          "metadata": {
            "tags": []
          },
          "execution_count": 14
        }
      ]
    },
    {
      "cell_type": "code",
      "metadata": {
        "id": "NO5x_a5JkkE9",
        "colab_type": "code",
        "colab": {
          "base_uri": "https://localhost:8080/",
          "height": 68
        },
        "outputId": "7c1fe843-c0d8-4a19-adf1-232a7b6370b2"
      },
      "source": [
        "unfold_x2 = nn.Unfold(kernel_size=kernel_size, dilation=dilation, padding=0, stride=stride)\n",
        "pad = nn.ReflectionPad2d(kernel_size // 2)\n",
        "\n",
        "x2_padded = pad(x2)\n",
        "print(f\"x2 padded: {x2_padded.shape}\")\n",
        "\n",
        "x2_unfold = unfold_x2(x2_padded)\n",
        "print(f\"x2 unfold: {x2_unfold.shape}\")\n",
        "\n",
        "x2_reshape = x2_unfold.view(x1_reshape.shape[0], -1, 1, x1_reshape.shape[-1])\n",
        "print(f\"s2 reshape: {x2_reshape.shape}\")"
      ],
      "execution_count": 17,
      "outputs": [
        {
          "output_type": "stream",
          "text": [
            "x2 padded: torch.Size([10, 4, 22, 22])\n",
            "x2 unfold: torch.Size([10, 196, 256])\n",
            "s2 reshape: torch.Size([10, 196, 1, 256])\n"
          ],
          "name": "stdout"
        }
      ]
    },
    {
      "cell_type": "code",
      "metadata": {
        "id": "6WvAnPG_lA9c",
        "colab_type": "code",
        "colab": {
          "base_uri": "https://localhost:8080/",
          "height": 51
        },
        "outputId": "81d4b740-8050-488b-81cf-183e929a10b3"
      },
      "source": [
        "print(f\"x1 reshape: {x1_reshape.shape}\")\n",
        "print(f\"x2 reshape: {x2_reshape.shape}\")"
      ],
      "execution_count": 19,
      "outputs": [
        {
          "output_type": "stream",
          "text": [
            "x1 reshape: torch.Size([10, 4, 1, 256])\n",
            "x2 reshape: torch.Size([10, 196, 1, 256])\n"
          ],
          "name": "stdout"
        }
      ]
    },
    {
      "cell_type": "code",
      "metadata": {
        "id": "NEM8O9CHpHbQ",
        "colab_type": "code",
        "colab": {
          "base_uri": "https://localhost:8080/",
          "height": 68
        },
        "outputId": "603690e4-6f7a-4f1b-bee1-40031c10e139"
      },
      "source": [
        "w_concat = torch.cat((x1_reshape, x2_reshape), dim=1)\n",
        "print(f\"w concat: {w_concat.shape}\")\n",
        "\n",
        "conv_w = nn.Sequential(\n",
        "    nn.BatchNorm2d(rel_planes * (1 + pow(kernel_size, 2))),\n",
        "    nn.ReLU(inplace=True),\n",
        "    nn.Conv2d(rel_planes * (1 + pow(kernel_size, 2)), out_planes // share_planes, kernel_size=1, bias=False),\n",
        "    nn.BatchNorm2d(out_planes // share_planes),\n",
        "    nn.ReLU(inplace=True),\n",
        "    nn.Conv2d(out_planes // share_planes, pow(kernel_size, 2) * out_planes // share_planes, kernel_size=1)\n",
        ")\n",
        "\n",
        "w_conv = conv_w(w_concat)\n",
        "print(f\"w conv: {w_conv.shape}\")\n",
        "\n",
        "w_reshape = w_conv.view(x1_reshape.shape[0], -1, pow(kernel_size, 2), x1_reshape.shape[-1])\n",
        "print(f\"w reshape: {w_reshape.shape}\")"
      ],
      "execution_count": 25,
      "outputs": [
        {
          "output_type": "stream",
          "text": [
            "w concat: torch.Size([10, 200, 1, 256])\n",
            "w conv: torch.Size([10, 98, 1, 256])\n",
            "w reshape: torch.Size([10, 2, 49, 256])\n"
          ],
          "name": "stdout"
        }
      ]
    },
    {
      "cell_type": "code",
      "metadata": {
        "id": "02lCmv33pQdW",
        "colab_type": "code",
        "colab": {
          "base_uri": "https://localhost:8080/",
          "height": 102
        },
        "outputId": "00854199-652d-4c55-97bc-0955aa51334f"
      },
      "source": [
        "from torch.nn.modules.utils import _pair\n",
        "\n",
        "\n",
        "pad_mode = 1\n",
        "\n",
        "\n",
        "kernel_size_pair = _pair(kernel_size)\n",
        "stride_pair = _pair(stride)\n",
        "padding_pair = _pair(kernel_size // 2)\n",
        "dilation_pair = _pair(dilation)\n",
        "\n",
        "print(kernel_size_pair)\n",
        "print(stride_pair)\n",
        "print(padding_pair)\n",
        "print(dilation_pair)\n",
        "print(pad_mode)"
      ],
      "execution_count": 31,
      "outputs": [
        {
          "output_type": "stream",
          "text": [
            "(7, 7)\n",
            "(1, 1)\n",
            "(3, 3)\n",
            "(1, 1)\n",
            "1\n"
          ],
          "name": "stdout"
        }
      ]
    },
    {
      "cell_type": "markdown",
      "metadata": {
        "id": "Kq4srIRQtJsj",
        "colab_type": "text"
      },
      "source": [
        "## Autual Sample"
      ]
    },
    {
      "cell_type": "code",
      "metadata": {
        "id": "vTLXqrTGyhug",
        "colab_type": "code",
        "colab": {}
      },
      "source": [
        "import torch\n",
        "import torch.nn as nn\n",
        "\n",
        "\n",
        "class SAM(nn.Module):\n",
        "    def __init__(self, sa_type, in_planes, rel_planes, out_planes, share_planes, kernel_size=3, stride=1, dilation=1):\n",
        "        super(SAM, self).__init__()\n",
        "        self.sa_type, self.kernel_size, self.stride = sa_type, kernel_size, stride\n",
        "        self.conv1 = nn.Conv2d(in_planes, rel_planes, kernel_size=1)\n",
        "        self.conv2 = nn.Conv2d(in_planes, rel_planes, kernel_size=1)\n",
        "        self.conv3 = nn.Conv2d(in_planes, out_planes, kernel_size=1)\n",
        "        self.conv_w = nn.Sequential(nn.BatchNorm2d(rel_planes * (pow(kernel_size, 2) + 1)),\n",
        "                                    nn.ReLU(inplace=True),\n",
        "                                    nn.Conv2d(rel_planes * (pow(kernel_size, 2) + 1), out_planes // share_planes, kernel_size=1, bias=False),\n",
        "                                    nn.BatchNorm2d(out_planes // share_planes),\n",
        "                                    nn.ReLU(inplace=True),\n",
        "                                    nn.Conv2d(out_planes // share_planes, pow(kernel_size, 2) * out_planes // share_planes, kernel_size=1))\n",
        "        self.unfold_i = nn.Unfold(kernel_size=1, dilation=dilation, padding=0, stride=stride)\n",
        "        self.unfold_j = nn.Unfold(kernel_size=kernel_size, dilation=dilation, padding=0, stride=stride)\n",
        "        self.pad = nn.ReflectionPad2d(kernel_size // 2)\n",
        "        # self.aggregation = Aggregation(kernel_size, stride, (dilation * (kernel_size - 1) + 1) // 2, dilation, pad_mode=1)\n",
        "\n",
        "    def forward(self, x):\n",
        "        x1, x2, x3 = self.conv1(x), self.conv2(x), self.conv3(x)\n",
        "        if self.sa_type == 0:  # pairwise\n",
        "            p = self.conv_p(position(x.shape[2], x.shape[3], x.is_cuda))\n",
        "            w = self.softmax(self.conv_w(torch.cat([self.subtraction2(x1, x2), self.subtraction(p).repeat(x.shape[0], 1, 1, 1)], 1)))\n",
        "        else:  # patchwise\n",
        "            if self.stride != 1:\n",
        "                x1 = self.unfold_i(x1)\n",
        "            x1 = x1.view(x.shape[0], -1, 1, x.shape[2]*x.shape[3])\n",
        "            x2 = self.unfold_j(self.pad(x2)).view(x.shape[0], -1, 1, x1.shape[-1])\n",
        "            w = self.conv_w(torch.cat([x1, x2], 1)).view(x.shape[0], -1, pow(self.kernel_size, 2), x1.shape[-1])\n",
        "        print(x3.shape)\n",
        "        print(w.shape)\n",
        "        return x"
      ],
      "execution_count": 0,
      "outputs": []
    },
    {
      "cell_type": "code",
      "metadata": {
        "id": "rUnJgvLRyscH",
        "colab_type": "code",
        "colab": {
          "base_uri": "https://localhost:8080/",
          "height": 289
        },
        "outputId": "8fc435b2-b586-4a1d-efd2-e7119326b50a"
      },
      "source": [
        "sam_sample = SAM(sa_type=1,\n",
        "                 in_planes=in_planes,\n",
        "                 rel_planes=rel_planes,\n",
        "                 out_planes=out_planes,\n",
        "                 share_planes=share_planes,\n",
        "                 kernel_size=kernel_size,\n",
        "                 stride=stride,\n",
        "                 dilation=dilation)\n",
        "\n",
        "sam_sample"
      ],
      "execution_count": 36,
      "outputs": [
        {
          "output_type": "execute_result",
          "data": {
            "text/plain": [
              "SAM(\n",
              "  (conv1): Conv2d(64, 4, kernel_size=(1, 1), stride=(1, 1))\n",
              "  (conv2): Conv2d(64, 4, kernel_size=(1, 1), stride=(1, 1))\n",
              "  (conv3): Conv2d(64, 16, kernel_size=(1, 1), stride=(1, 1))\n",
              "  (conv_w): Sequential(\n",
              "    (0): BatchNorm2d(200, eps=1e-05, momentum=0.1, affine=True, track_running_stats=True)\n",
              "    (1): ReLU(inplace=True)\n",
              "    (2): Conv2d(200, 2, kernel_size=(1, 1), stride=(1, 1), bias=False)\n",
              "    (3): BatchNorm2d(2, eps=1e-05, momentum=0.1, affine=True, track_running_stats=True)\n",
              "    (4): ReLU(inplace=True)\n",
              "    (5): Conv2d(2, 98, kernel_size=(1, 1), stride=(1, 1))\n",
              "  )\n",
              "  (unfold_i): Unfold(kernel_size=1, dilation=1, padding=0, stride=1)\n",
              "  (unfold_j): Unfold(kernel_size=7, dilation=1, padding=0, stride=1)\n",
              "  (pad): ReflectionPad2d((3, 3, 3, 3))\n",
              ")"
            ]
          },
          "metadata": {
            "tags": []
          },
          "execution_count": 36
        }
      ]
    },
    {
      "cell_type": "code",
      "metadata": {
        "id": "xT0Xtooky9Nx",
        "colab_type": "code",
        "colab": {
          "base_uri": "https://localhost:8080/",
          "height": 51
        },
        "outputId": "9e715ae8-f5cb-4d98-af40-29652eed6872"
      },
      "source": [
        "_ = sam_sample(inputs)"
      ],
      "execution_count": 39,
      "outputs": [
        {
          "output_type": "stream",
          "text": [
            "torch.Size([10, 16, 16, 16])\n",
            "torch.Size([10, 2, 49, 256])\n"
          ],
          "name": "stdout"
        }
      ]
    },
    {
      "cell_type": "code",
      "metadata": {
        "id": "C6ScwVugzJz0",
        "colab_type": "code",
        "colab": {}
      },
      "source": [
        ""
      ],
      "execution_count": 0,
      "outputs": []
    }
  ]
}